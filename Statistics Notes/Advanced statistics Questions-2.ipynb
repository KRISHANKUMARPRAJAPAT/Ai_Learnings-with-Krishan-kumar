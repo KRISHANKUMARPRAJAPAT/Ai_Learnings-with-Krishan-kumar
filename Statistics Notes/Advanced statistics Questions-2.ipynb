{
 "cells": [
  {
   "cell_type": "code",
   "execution_count": null,
   "id": "1e38d0e2-59e2-4dd5-86db-05b2bd6ceeab",
   "metadata": {},
   "outputs": [],
   "source": []
  },
  {
   "cell_type": "markdown",
   "id": "7d0f8b46-b1d1-4583-95f8-6ca1218dd308",
   "metadata": {},
   "source": [
    "# Q1: What is the difference between a t-test and a z-test? Provide an example scenario where you would use each type of test."
   ]
  },
  {
   "cell_type": "markdown",
   "id": "b0b9ad2f-56e8-4ce1-94bd-75f0270935e6",
   "metadata": {},
   "source": [
    "# Ans: 1 \n",
    "\n",
    "Both t-tests and z-tests are used to compare means of two groups and determine if the observed difference between the groups is statistically significant.\n",
    "\n",
    "\n",
    "**The difference between a t-test and a z-test:**\n",
    "\n",
    "- **Sample Size:** The key difference between a t-test and a z-test is the sample size. A t-test is appropriate when the sample size is relatively small (typically n < 30) or when the population standard deviation is unknown. On the other hand, a z-test is used when the sample size is large (typically n >= 30) or when the population standard deviation is known.\n",
    "\n",
    "- **Assumption:** The t-test assumes that the data is approximately normally distributed, whereas the z-test assumes that the data is normally distributed.\n",
    "\n",
    ".\n",
    "\n",
    "\n",
    "Now, let's look at an example for each test using Python:\n",
    "\n",
    "# t-test:\n",
    "\n",
    "\n",
    "Suppose we want to compare the heights of two groups of individuals: Group A and Group B. We have the heights of 10 individuals from each group, and we want to determine if there is a statistically significant difference in the average height between the two groups."
   ]
  },
  {
   "cell_type": "code",
   "execution_count": 1,
   "id": "2ca6ff3a-9da0-4e0d-9cc3-326ecaf5eb6c",
   "metadata": {},
   "outputs": [
    {
     "name": "stdout",
     "output_type": "stream",
     "text": [
      "t-statisti:c 6.218479840396996\n",
      "p-value: 7.226808844213945e-06\n",
      "There is a statistically significant difference in the average height between Group A and Group B.\n"
     ]
    }
   ],
   "source": [
    "import numpy as np \n",
    "from scipy.stats import ttest_ind\n",
    "\n",
    " # Heights of individuals in group A ans group B\n",
    "group_a_heights = np.array([165, 170, 168, 175, 172, 167, 169, 171, 173, 168])\n",
    "group_b_heights = np.array([160, 162, 165, 158, 163, 166, 159, 161, 164, 162])\n",
    "\n",
    "# perform independent t test \n",
    "t_stat, p_value = ttest_ind(group_a_heights, group_b_heights)\n",
    "\n",
    "# print the result \n",
    "print(\"t-statisti:c\" , t_stat)\n",
    "print(\"p-value:\" , p_value)\n",
    "\n",
    "# check the difference is statistically significant at 5% significance level\n",
    "if p_value < 0.05:\n",
    "    print(\"There is a statistically significant difference in the average height between Group A and Group B.\")\n",
    "else: \n",
    "    print(\"There is no statistically significant difference in the average height between Group A and Group B\")"
   ]
  },
  {
   "cell_type": "markdown",
   "id": "bf83c3ff-8fd1-4e7d-8ab6-0a51deeaf400",
   "metadata": {},
   "source": [
    "# z-test:\n",
    "Now, suppose we have a larger sample size for each group and we know the population standard deviation. We want to compare the average test scores of two groups: Group X and Group Y."
   ]
  },
  {
   "cell_type": "code",
   "execution_count": 2,
   "id": "341824d3-637b-4e7d-9edd-f3027125304a",
   "metadata": {},
   "outputs": [
    {
     "name": "stdout",
     "output_type": "stream",
     "text": [
      "z-score: 4.695742752749559\n",
      "p-value: 2.656396824285423e-06\n",
      "There is a statistically significant difference in the average test scores between Group X and Group Y.\n"
     ]
    }
   ],
   "source": [
    "from scipy.stats import norm\n",
    "\n",
    "# test scores of individuals in group x and group y \n",
    "group_x_scores = np.array([75, 80, 85, 90, 78, 82, 88, 92, 79, 81])\n",
    "group_y_scores = np.array([70, 72, 74, 68, 73, 71, 75, 76, 72, 74])\n",
    "\n",
    "# population standard deviation of test scores(for this example)\n",
    "population_std = 5.0\n",
    "\n",
    "# calculate and sample mean and standard errors \n",
    "mean_x = np.mean(group_x_scores)\n",
    "mean_y = np.mean(group_y_scores)\n",
    "\n",
    "se_x = population_std/ np.sqrt(len(group_x_scores))\n",
    "se_y = population_std / np.sqrt(len(group_y_scores))\n",
    "\n",
    "# calculate the z-score for the difference in means\n",
    "z_score = (mean_x - mean_y ) / np.sqrt(se_x**2 + se_y**2)\n",
    "\n",
    "# calculate the p-value\n",
    "p_value = 2*(1 - norm.cdf(abs(z_score)))\n",
    "\n",
    "# print the result \n",
    "print(\"z-score:\", z_score)\n",
    "print(\"p-value:\", p_value)\n",
    "\n",
    "# # Check if the difference is statistically significant at 5% significance level\n",
    "if p_value < 0.05:\n",
    "    print(\"There is a statistically significant difference in the average test scores between Group X and Group Y.\")\n",
    "else:\n",
    "    print(\"There is no statistically significant difference in the average test scores between Group X and Group Y.\")"
   ]
  },
  {
   "cell_type": "code",
   "execution_count": null,
   "id": "ff5c10f8-6c7f-45eb-ba8b-0150ee8d65e5",
   "metadata": {},
   "outputs": [],
   "source": []
  },
  {
   "cell_type": "markdown",
   "id": "8d40df05-b298-487f-8e58-b6d7e1d9d79d",
   "metadata": {},
   "source": [
    "# Q2: Differentiate between one-tailed and two-tailed tests."
   ]
  },
  {
   "cell_type": "markdown",
   "id": "e290b7d5-62ab-4659-8925-ea57dbbbc6bf",
   "metadata": {},
   "source": [
    "# Ans: 2 \n",
    "\n",
    "\n",
    "\n",
    "One-tailed and two-tailed tests are two types of hypothesis tests used in statistical analysis to assess the significance of an observed effect or difference. The main difference between these tests lies in the directionality of the hypothesis being tested.\n",
    "\n",
    "**One-tailed test:**\n",
    "\n",
    "In a one-tailed test, the hypothesis being tested is directional, meaning it specifies a particular direction of the effect or difference. The test is designed to determine if the observed data significantly deviates in one specific direction from the null hypothesis. The critical region is located entirely on one side of the probability distribution.\n",
    "\n",
    "- **Null hypothesis (H0):** There is no effect or difference between the groups.\n",
    "- **Alternative hypothesis (Ha):** There is a specific effect or difference in a particular direction.\n",
    "\n",
    "One-tailed tests are typically used when there is a strong prior expectation or theoretical reason to believe that the effect or difference, if it exists, will occur in a specific direction.\n",
    "\n",
    ".\n",
    "\n",
    "\n",
    "**Two-tailed test:**\n",
    "\n",
    "In a two-tailed test, the hypothesis being tested is non-directional, meaning it does not specify a particular direction of the effect or difference. The test is designed to determine if the observed data significantly deviates from the null hypothesis in any direction. The critical region is divided between both tails of the probability distribution.\n",
    "\n",
    "- **Null hypothesis (H0):** There is no effect or difference between the groups.\n",
    "- **Alternative hypothesis (Ha):** There is a significant effect or difference, but the direction is not specified.\n",
    "\n",
    "Two-tailed tests are more conservative because they consider deviations in both directions and are typically used when there is no prior expectation or theoretical reason to predict the direction of the effect or difference.\n",
    "\n"
   ]
  },
  {
   "cell_type": "code",
   "execution_count": null,
   "id": "133c2e8b-43fa-4f7d-a4e5-73a4acfc2140",
   "metadata": {},
   "outputs": [],
   "source": []
  },
  {
   "cell_type": "markdown",
   "id": "e670453f-9a87-413d-94f3-4eef56f66371",
   "metadata": {},
   "source": [
    "# Q3: Explain the concept of Type 1 and Type 2 errors in hypothesis testing. Provide an example scenario for each type of error."
   ]
  },
  {
   "cell_type": "markdown",
   "id": "183a1977-1949-4d03-97c7-e9008cf11ee9",
   "metadata": {
    "tags": []
   },
   "source": [
    "# Ans: 3 \n",
    "\n",
    "**Type 1 error (False Positive):**\n",
    "\n",
    "A Type 1 error occurs when we incorrectly reject a true null hypothesis. In other words, we conclude that there is a significant effect or difference when, in reality, there is no such effect or difference in the population. The probability of making a Type 1 error is denoted by the symbol alpha (α) and is also known as the significance level of the test.\n",
    "\n",
    "- **Example:** Let's say a company claims their new energy drink improves people's memory. They run a scientific test and find a small improvement in memory among the participants who drank the energy drink. However, in reality, the drink has no effect on memory. If the company incorrectly concludes that the drink works and starts advertising it as a memory booster, it's a Type 1 error.\n",
    "\n",
    "\n",
    "**Type 2 error (False Negative):**\n",
    "\n",
    "A Type 2 error occurs when we incorrectly fail to reject a false null hypothesis. In this case, we conclude that there is no significant effect or difference when, in fact, there is a true effect or difference in the population. The probability of making a Type 2 error is denoted by the symbol beta (β).\n",
    "\n",
    "- **Example:** Let's consider the same company testing the memory-boosting energy drink. Suppose the drink actually does improve memory, but in their experiment, they fail to detect this improvement and mistakenly conclude that it has no effect. It's a Type 2 error because they missed the true effect of the drink.\n"
   ]
  },
  {
   "cell_type": "code",
   "execution_count": null,
   "id": "390ba7d1-7596-41a7-b373-309acafd3254",
   "metadata": {},
   "outputs": [],
   "source": []
  },
  {
   "cell_type": "markdown",
   "id": "624404e4-7521-46f4-8449-0ade82977952",
   "metadata": {},
   "source": [
    "# Q4: Explain Bayes's theorem with an example."
   ]
  },
  {
   "cell_type": "markdown",
   "id": "b974f4dc-a1cc-4cfd-aa21-a7a785282746",
   "metadata": {},
   "source": [
    "# Ans: 4 \n",
    "\n",
    "\n",
    "\n",
    "Bayes's theorem is a fundamental concept in probability theory that allows us to update the probability of an event based on new evidence. It helps us calculate the probability of a hypothesis (or event) given the probability of related evidence and the prior probability of the hypothesis. Bayes's theorem is represented mathematically as:\n",
    "\n",
    "**P(H/E)= P(E/H).P(H) / P(E)**\n",
    "\n",
    "Where : \n",
    "\n",
    "- P(H/E) is the posterior probability of the hypothesis H given the evidence E.\n",
    "- P(E/H) is the likelihood of the evidence E given the hypothesis H.\n",
    "- P(H) is the prior probability of the hypothesis H.\n",
    "- P(E) is the probability of the evidence E.\n",
    "\n",
    "\n",
    "Let's demonstrate Bayes's theorem with a simple example in Python:\n",
    "\n",
    "**Example: Coin Toss**\n",
    "Suppose we have an unfair coin, and we want to calculate the probability of the coin being biased towards heads (H) or tails (T) based on the evidence of three consecutive tosses: H, H, T.\n",
    "\n",
    "\n",
    "Now, let's use Bayes's theorem to calculate the posterior probability of the coin being biased towards heads (H) after observing three consecutive tosses: H, H, T."
   ]
  },
  {
   "cell_type": "code",
   "execution_count": 3,
   "id": "cd1617f2-0264-4e83-8392-8eb52f66afe3",
   "metadata": {},
   "outputs": [
    {
     "name": "stdout",
     "output_type": "stream",
     "text": [
      "Posterior probability of the coin being biased towards heads (H): 0.4615384615384615\n",
      "Posterior probability of the coin being biased towards tails (T): 0.5384615384615383\n"
     ]
    }
   ],
   "source": [
    "# Prior probabilities\n",
    "p_h = 0.4  # Probability of the coin being biased towards heads (prior)\n",
    "p_t = 0.6  # Probability of the coin being biased towards tails (prior)\n",
    "\n",
    "# Likelihoods\n",
    "p_h_given_h = 0.9  # Probability of getting heads given the coin is biased towards heads\n",
    "p_t_given_h = 0.1  # Probability of getting tails given the coin is biased towards heads\n",
    "p_h_given_t = 0.3  # Probability of getting heads given the coin is biased towards tails\n",
    "p_t_given_t = 0.7  # Probability of getting tails given the coin is biased towards tails\n",
    "\n",
    "# Evidence (observed tosses)\n",
    "evidence = ['H', 'H', 'T']\n",
    "\n",
    "# Calculate the probability of the evidence P(E)\n",
    "p_e = (p_h * p_h_given_h * p_h_given_h * p_t_given_h) + (p_t * p_h_given_t * p_h_given_t * p_t_given_t)\n",
    "\n",
    "# Calculate the posterior probabilities P(H|E) and P(T|E)\n",
    "p_h_given_e = (p_h * p_h_given_h * p_h_given_h * p_t_given_h) / p_e\n",
    "p_t_given_e = (p_t * p_h_given_t * p_h_given_t * p_t_given_t) / p_e\n",
    "\n",
    "print(\"Posterior probability of the coin being biased towards heads (H):\", p_h_given_e)\n",
    "print(\"Posterior probability of the coin being biased towards tails (T):\", p_t_given_e)"
   ]
  },
  {
   "cell_type": "code",
   "execution_count": null,
   "id": "04e0e33b-0ced-4883-94a8-f96fbd9f7b92",
   "metadata": {},
   "outputs": [],
   "source": []
  },
  {
   "cell_type": "markdown",
   "id": "74cd0dec-5763-48ba-8867-0ce434487623",
   "metadata": {},
   "source": [
    "# Q5: What is a confidence interval? How to calculate the confidence interval, explain with an example."
   ]
  },
  {
   "cell_type": "markdown",
   "id": "4abc5a29-cd9e-41c5-b016-9765503114b2",
   "metadata": {},
   "source": [
    "# Ans: 5 \n",
    "\n",
    "**Confidence interval:**\n",
    "\n",
    "A confidence interval is a range of values that provides an estimate of the unknown population parameter (such as the population mean) along with a level of confidence. It is a measure of the uncertainty associated with an estimate based on a sample from the population. In other words, a confidence interval gives us a range of values within which we are reasonably confident that the true population parameter lies.\n",
    "\n",
    "The level of confidence associated with a confidence interval is expressed as a percentage, typically 90%, 95%, or 99%. For example, a 95% confidence interval means that if we were to take many random samples from the same population and compute a confidence interval from each sample, approximately 95% of those intervals would contain the true population parameter.\n",
    "\n",
    "**How to calculate the confidence interval:**\n",
    "The formula for calculating a confidence interval depends on the type of data and the distribution of the data. For large sample sizes, a common approach is to use the normal distribution, while for smaller sample sizes, the t-distribution is used.\n",
    "\n",
    "- **Example: Calculating a Confidence Interval for the Mean**\n",
    "\n",
    "Suppose we want to estimate the average height of a certain population. We take a random sample of 50 individuals from that population and measure their heights. The sample mean height is 170 cm, and the sample standard deviation is 5 cm.\n"
   ]
  },
  {
   "cell_type": "code",
   "execution_count": 4,
   "id": "81ca96b0-24c8-4339-85cb-68bb92d0c311",
   "metadata": {},
   "outputs": [
    {
     "name": "stdout",
     "output_type": "stream",
     "text": [
      "Sample mean: 170.4\n",
      "Margin of error: 0.5741643527112024\n",
      "95% Confidence Interval: (169.83, 170.97)\n"
     ]
    }
   ],
   "source": [
    "from scipy.stats import t\n",
    "\n",
    "# Sample data (heights in centimeters)\n",
    "sample_data = np.array([165, 170, 175, 168, 172, 173, 169, 171, 168, 172,\n",
    "                        170, 167, 170, 171, 174, 172, 170, 168, 172, 169,\n",
    "                        170, 172, 170, 168, 170, 172, 170, 169, 173, 171,\n",
    "                        167, 170, 172, 169, 171, 170, 168, 173, 170, 169,\n",
    "                        171, 173, 170, 168, 174, 171, 170, 172, 169, 172])\n",
    "\n",
    "# Sample statistics\n",
    "sample_mean = np.mean(sample_data)\n",
    "sample_std = np.std(sample_data, ddof=1)  # ddof=1 for sample standard deviation\n",
    "sample_size = len(sample_data)\n",
    "\n",
    "# Confidence level (as a decimal)\n",
    "confidence_level = 0.95\n",
    "\n",
    "# Calculate the critical value for t-distribution\n",
    "# Degrees of freedom = sample_size - 1\n",
    "critical_value = t.ppf((1 + confidence_level) / 2, df=sample_size - 1)\n",
    "\n",
    "# Calculate the standard error of the mean\n",
    "standard_error = sample_std / np.sqrt(sample_size)\n",
    "\n",
    "# Calculate the margin of error\n",
    "margin_of_error = critical_value * standard_error\n",
    "\n",
    "# Calculate the confidence interval\n",
    "lower_bound = sample_mean - margin_of_error\n",
    "upper_bound = sample_mean + margin_of_error\n",
    "\n",
    "print(\"Sample mean:\", sample_mean)\n",
    "print(\"Margin of error:\", margin_of_error)\n",
    "print(\"95% Confidence Interval: ({:.2f}, {:.2f})\".format(lower_bound, upper_bound))"
   ]
  },
  {
   "cell_type": "code",
   "execution_count": null,
   "id": "7bf72eef-e118-4aa1-b950-742e95ff3c18",
   "metadata": {},
   "outputs": [],
   "source": []
  },
  {
   "cell_type": "markdown",
   "id": "1c24841c-cc47-418b-a45b-130b25f50bb1",
   "metadata": {},
   "source": [
    "# Q6. Use Bayes' Theorem to calculate the probability of an event occurring given prior knowledge of the event's probability and new evidence. Provide a sample problem and solution."
   ]
  },
  {
   "cell_type": "markdown",
   "id": "c5813c4a-426e-45cc-a4b7-4fa72e63f4bc",
   "metadata": {},
   "source": [
    "# Ans : 6\n",
    "\n",
    "Sample Problem:\n",
    "Suppose there is a rare disease that affects 1 in 10,000 people in a certain population. We have a diagnostic test for this disease, but it is not perfect. The test has the following characteristics:\n",
    "\n",
    "The probability of a positive test result (indicating the presence of the disease) given that a person has the disease is 0.98 (P(Positive|Disease) = 0.98).\n",
    "The probability of a negative test result (indicating the absence of the disease) given that a person does not have the disease is 0.99 (P(Negative|No Disease) = 0.99).\n",
    "Now, a person from the population gets tested, and the test result is positive. We want to calculate the probability that this person actually has the disease (P(Disease|Positive)).\n",
    "\n",
    "Solution:\n",
    "Let's use Bayes' Theorem to calculate the probability of having the disease given a positive test result (P(Disease|Positive)).\n",
    "\n",
    "Bayes' Theorem is given by:\n",
    "\n",
    "  **P(Disease/Positive) = P(Positive/Disease)⋅P(Disease) / P(positive)**\n",
    "  \n",
    "  \n",
    "Where: \n",
    "- P(Disease/Positive) is the probability of having the disease given a positive test result.\n",
    "- P(Positive/Disease)  is the probability of a positive test result given that the person has the disease (0.98).\n",
    "- P(Disease) is the prior probability of having the disease (1 in 10,000 or 0.0001).\n",
    "- P(positive) is the probability of a positive test result.\n",
    "\n",
    "\n",
    "Let's calculate P(positive) and then use Bayes' Theorem to find \n",
    "P(Disease/Positive) in Python:"
   ]
  },
  {
   "cell_type": "code",
   "execution_count": 5,
   "id": "a2624cef-d046-4074-8bd3-377298a0507c",
   "metadata": {},
   "outputs": [
    {
     "name": "stdout",
     "output_type": "stream",
     "text": [
      "Probability of having the disease given a positive test result:\n",
      "0.009706\n"
     ]
    }
   ],
   "source": [
    "# Given data\n",
    "p_positive_given_disease = 0.98\n",
    "p_disease = 0.0001\n",
    "p_positive_given_no_disease = 1 - 0.99\n",
    "p_no_disease = 1 - p_disease\n",
    "\n",
    "# Calculate P(Positive)\n",
    "p_positive = (p_positive_given_disease * p_disease) + (p_positive_given_no_disease * p_no_disease)\n",
    "\n",
    "# Calculate P(Disease|Positive) using Bayes' Theorem\n",
    "p_disease_given_positive = (p_positive_given_disease * p_disease) / p_positive\n",
    "\n",
    "# Display the result\n",
    "print(\"Probability of having the disease given a positive test result:\")\n",
    "print(\"{:.6f}\".format(p_disease_given_positive))"
   ]
  },
  {
   "cell_type": "code",
   "execution_count": null,
   "id": "b4579c8a-20de-4c85-9975-d90f93ad14e6",
   "metadata": {},
   "outputs": [],
   "source": []
  },
  {
   "cell_type": "markdown",
   "id": "e1cf6a6f-8187-437c-a1c3-d783edbc5829",
   "metadata": {},
   "source": [
    "# Q7. Calculate the 95% confidence interval for a sample of data with a mean of 50 and a standard deviation of 5. Interpret the results."
   ]
  },
  {
   "cell_type": "markdown",
   "id": "cdd2a68d-7da7-4574-98d9-cf4516f67b40",
   "metadata": {},
   "source": [
    "# Ans: 7 \n",
    "\n",
    "\n",
    "To calculate the 95% confidence interval for a sample of data with a mean of 50 and a standard deviation of 5, we need to use the formula for a confidence interval for the population mean\n",
    "\n",
    "Let's calculate the 95% confidence interval using the given information (mean = 50, standard deviation = 5) and assume a sample size of 30:"
   ]
  },
  {
   "cell_type": "code",
   "execution_count": 6,
   "id": "4a1cfaa3-b6ee-429f-9c49-9ae82326cfdf",
   "metadata": {},
   "outputs": [
    {
     "name": "stdout",
     "output_type": "stream",
     "text": [
      "95% Confidence Interval: (48.21, 51.79)\n"
     ]
    }
   ],
   "source": [
    "import scipy.stats as st\n",
    "\n",
    "# Given data\n",
    "sample_mean = 50\n",
    "sample_std = 5\n",
    "confidence_level = 0.95\n",
    "sample_size = 30\n",
    "\n",
    "# Calculate the critical value (Z-score) for 95% confidence level\n",
    "critical_value = st.norm.ppf((1 + confidence_level) / 2)\n",
    "\n",
    "# Calculate the margin of error\n",
    "margin_of_error = critical_value * (sample_std / (sample_size ** 0.5))\n",
    "\n",
    "# Calculate the confidence interval\n",
    "lower_bound = sample_mean - margin_of_error\n",
    "upper_bound = sample_mean + margin_of_error\n",
    "\n",
    "# Display the result\n",
    "print(\"95% Confidence Interval: ({:.2f}, {:.2f})\".format(lower_bound, upper_bound))"
   ]
  },
  {
   "cell_type": "markdown",
   "id": "09161f10-3d03-403e-bf1c-f09729839946",
   "metadata": {},
   "source": [
    "**Interpretation of the Results:**\n",
    "\n",
    "The 95% confidence interval for the population mean(μ) based on the sample data is (48.51, 51.49). This means that we are 95% confident that the true population mean falls within this range."
   ]
  },
  {
   "cell_type": "code",
   "execution_count": null,
   "id": "7f47ab2c-9d4d-42fe-aa08-1d3a1658ce4d",
   "metadata": {},
   "outputs": [],
   "source": []
  },
  {
   "cell_type": "markdown",
   "id": "1390643a-9dbb-4a84-bd07-9d10d68d930b",
   "metadata": {},
   "source": [
    "# Q8. What is the margin of error in a confidence interval? How does sample size affect the margin of error? Provide an example of a scenario where a larger sample size would result in a smaller margin of error."
   ]
  },
  {
   "cell_type": "markdown",
   "id": "8ca4b2f5-1fb5-4093-9807-b7b32fabaecf",
   "metadata": {
    "tags": []
   },
   "source": [
    "# Ans: 8 \n",
    "\n",
    "\n",
    "\n",
    "The margin of error (MOE) in a confidence interval (CI) is a measure of the uncertainty or precision associated with the estimate of a population parameter based on a sample. It indicates the range within which we expect the true population parameter to lie with a certain level of confidence.\n",
    "\n",
    "In statistical terms, when we calculate a confidence interval for a population parameter (e.g., mean, proportion), we use a sample statistic (e.g., sample mean, sample proportion) to estimate the true population parameter. The margin of error is the maximum amount by which the sample statistic is likely to differ from the true population parameter.\n",
    "\n",
    "The margin of error is directly related to the level of confidence chosen for the interval and the variability of the data in the sample. The most common level of confidence used is 95%, which means that we expect the true population parameter to lie within the calculated interval in 95 out of 100 samples.\n",
    "\n",
    "The formula for calculating the margin of error in a confidence interval is:\n",
    "\n",
    "**MOE = Z * (σ / √n)**\n",
    "\n",
    "Where:\n",
    "\n",
    "MOE = Margin of Error\n",
    "- Z = Z-score associated with the desired level of confidence (e.g., 1.96 for a 95% confidence level)\n",
    "- σ = Standard deviation of the population (unknown in most cases, so we often use the sample standard deviation as an estimate)\n",
    "- n = Sample size\n",
    "\n",
    "Now, as for how the sample size affects the margin of error, we can observe that the margin of error is inversely proportional to the square root of the sample size. In other words, as the sample size increases, the margin of error decreases.\n",
    "\n",
    "Here's an example:\n",
    "\n",
    "Let's say you want to estimate the average height of students at a particular university with a 95% confidence level and a margin of error of 2 inches. You collect two different sample sizes, one with 100 students and another with 400 students.\n",
    "\n",
    "For the sample with 100 students:\n",
    "MOE = Z * (σ / √n)\n",
    "Assuming σ (population standard deviation) is 4 inches (just for illustration purposes):\n",
    "MOE = 1.96 * (4 / √100) = 1.96 * 0.4 ≈ 0.78 inches\n",
    "\n",
    "For the sample with 400 students:\n",
    "MOE = Z * (σ / √n)\n",
    "MOE = 1.96 * (4 / √400) = 1.96 * 0.2 ≈ 0.39 inches"
   ]
  },
  {
   "cell_type": "code",
   "execution_count": null,
   "id": "5f447945-f0d7-4409-b415-b17a0c2ab30b",
   "metadata": {},
   "outputs": [],
   "source": []
  },
  {
   "cell_type": "markdown",
   "id": "b5592d6a-d625-4dee-896d-b26413bcf047",
   "metadata": {},
   "source": [
    "# Q9. Calculate the z-score for a data point with a value of 75, a population mean of 70, and a population standard deviation of 5. Interpret the results."
   ]
  },
  {
   "cell_type": "code",
   "execution_count": 7,
   "id": "c44beca3-eaaf-4507-9d3c-a5f7fc318480",
   "metadata": {},
   "outputs": [
    {
     "name": "stdout",
     "output_type": "stream",
     "text": [
      "The z-score for the data point is: 1.0\n"
     ]
    }
   ],
   "source": [
    "# Ans: 9\n",
    "\n",
    "\n",
    "# Given data\n",
    "data_point = 75\n",
    "population_mean = 70\n",
    "population_std_dev = 5\n",
    "\n",
    "# Calculate the z-score\n",
    "z_score = (data_point - population_mean) / population_std_dev\n",
    "\n",
    "# Display the z-score\n",
    "print(\"The z-score for the data point is:\", z_score)"
   ]
  },
  {
   "cell_type": "markdown",
   "id": "6dc208e0-dbab-47a7-8f3a-0e126268c8b6",
   "metadata": {},
   "source": [
    "**Now, let's interpret the results:**\n",
    "\n",
    "The calculated z-score represents the number of standard deviations the data point (75) is away from the population mean (70). In this case:\n",
    "\n",
    "Z = (75-70)/5\n",
    "\n",
    "A z-score of 1 means that the data point is 1 standard deviation above the mean. Since the population standard deviation is 5, a z-score of 1 indicates that the data point is 5 units above the population mean."
   ]
  },
  {
   "cell_type": "code",
   "execution_count": null,
   "id": "7aacb0b6-1cbd-45ea-bbac-c10754e0d1c2",
   "metadata": {},
   "outputs": [],
   "source": []
  },
  {
   "cell_type": "markdown",
   "id": "a889f493-bda1-4e5c-b99d-c4817f68e84b",
   "metadata": {},
   "source": [
    "# Q10. In a study of the effectiveness of a new weight loss drug, a sample of 50 participants lost an average of 6 pounds with a standard deviation of 2.5 pounds. Conduct a hypothesis test to determine if the drug is significantly effective at a 95% confidence level using a t-test."
   ]
  },
  {
   "cell_type": "markdown",
   "id": "3e7bf172-4bd6-4eb8-90ec-a17562b4471b",
   "metadata": {},
   "source": [
    "# Ans: 10 \n",
    "\n",
    "**Let's define the hypotheses:**\n",
    "\n",
    "- Null Hypothesis (H0): The weight loss drug is not significantly effective, and the population mean weight loss is equal to or less than 0 pounds. (μ ≤ 0)\n",
    "\n",
    "- Alternative Hypothesis (H1): The weight loss drug is significantly effective, and the population mean weight loss is greater than 0 pounds. (μ > 0)\n",
    "\n",
    "\n",
    "We will use a one-tailed t-test because the alternative hypothesis is directional (μ > 0).\n"
   ]
  },
  {
   "cell_type": "code",
   "execution_count": 8,
   "id": "e957e834-e1d3-45ac-8828-035de935cc36",
   "metadata": {},
   "outputs": [
    {
     "name": "stdout",
     "output_type": "stream",
     "text": [
      "Calculated t-statistic: 16.970562748477143\n",
      "Critical t-value: 1.6765508919142629\n"
     ]
    }
   ],
   "source": [
    "import scipy.stats as stats\n",
    "\n",
    "sample_mean = 6\n",
    "sample_std_dev = 2.5\n",
    "sample_size = 50\n",
    "population_mean_null = 0\n",
    "\n",
    "# Calculate the t-statistic\n",
    "standard_error = sample_std_dev / (sample_size ** 0.5)\n",
    "t_statistic = (sample_mean - population_mean_null) / standard_error\n",
    "\n",
    "# Degrees of freedom for a one-sample t-test\n",
    "degrees_of_freedom = sample_size - 1\n",
    "\n",
    "# Calculate the critical t-value for a one-tailed t-test at 95% confidence level\n",
    "alpha = 0.05\n",
    "critical_t_value = stats.t.ppf(1 - alpha, df=degrees_of_freedom)\n",
    "\n",
    "# Print the results\n",
    "print(\"Calculated t-statistic:\", t_statistic)\n",
    "print(\"Critical t-value:\", critical_t_value)"
   ]
  },
  {
   "cell_type": "code",
   "execution_count": null,
   "id": "150263f4-67da-4223-9163-9197f306a09c",
   "metadata": {},
   "outputs": [],
   "source": []
  },
  {
   "cell_type": "markdown",
   "id": "84ceda02-584d-4356-995a-8fed48edd680",
   "metadata": {},
   "source": [
    "# Q11. In a survey of 500 people, 65% reported being satisfied with their current job. Calculate the 95% confidence interval for the true proportion of people who are satisfied with their job."
   ]
  },
  {
   "cell_type": "markdown",
   "id": "bc6f8968-9044-42a9-861b-2219917c8954",
   "metadata": {},
   "source": [
    "# Ans: 11\n",
    "\n",
    "To calculate the 95% confidence interval for the true proportion of people who are satisfied with their job, we can use the formula for the confidence interval for a proportion."
   ]
  },
  {
   "cell_type": "code",
   "execution_count": 9,
   "id": "85e8480d-ad74-4b14-a926-492b6ec01e4b",
   "metadata": {},
   "outputs": [
    {
     "name": "stdout",
     "output_type": "stream",
     "text": [
      "95% Confidence Interval for the proportion of people satisfied with their job:\n",
      "60.82% to 69.18%\n"
     ]
    }
   ],
   "source": [
    "import math\n",
    "\n",
    "# Given data\n",
    "sample_proportion = 0.65\n",
    "sample_size = 500\n",
    "\n",
    "# Calculate the critical z-score for a 95% confidence level\n",
    "confidence_level = 0.95\n",
    "critical_z_score = stats.norm.ppf(1 - (1 - confidence_level) / 2)\n",
    "\n",
    "# Calculate the standard error\n",
    "standard_error = math.sqrt((sample_proportion * (1 - sample_proportion)) / sample_size)\n",
    "\n",
    "# Calculate the lower and upper bounds of the confidence interval\n",
    "lower_bound = sample_proportion - critical_z_score * standard_error\n",
    "upper_bound = sample_proportion + critical_z_score * standard_error\n",
    "\n",
    "# Convert bounds to percentages\n",
    "lower_bound_percent = lower_bound * 100\n",
    "upper_bound_percent = upper_bound * 100\n",
    "\n",
    "# Print the results\n",
    "print(\"95% Confidence Interval for the proportion of people satisfied with their job:\")\n",
    "print(f\"{lower_bound_percent:.2f}% to {upper_bound_percent:.2f}%\")"
   ]
  },
  {
   "cell_type": "code",
   "execution_count": null,
   "id": "da6b0a19-2cb5-41b2-b581-6d818f78d073",
   "metadata": {},
   "outputs": [],
   "source": []
  },
  {
   "cell_type": "markdown",
   "id": "ab3fb7cd-e0c0-419e-b718-6eee78f8e032",
   "metadata": {},
   "source": [
    "# Q12. A researcher is testing the effectiveness of two different teaching methods on student performance. Sample A has a mean score of 85 with a standard deviation of 6, while sample B has a mean score of 82 with a standard deviation of 5. Conduct a hypothesis test to determine if the two teaching methods have a significant difference in student performance using a t-test with a significance level of 0.01."
   ]
  },
  {
   "cell_type": "markdown",
   "id": "60c31cbe-c10a-47b4-8d51-dc18d0f24805",
   "metadata": {},
   "source": [
    "# Ans: 12\n",
    "\n",
    "\n",
    "To conduct a hypothesis test to determine if there is a significant difference in student performance between the two teaching methods, we can use a two-sample t-test. The null hypothesis (H0) assumes that there is no difference between the means of the two samples, while the alternative hypothesis (H1) assumes that there is a significant difference.\n",
    "\n",
    "Let's define the hypotheses:\n",
    "\n",
    "- Null Hypothesis (H0): The two teaching methods have no significant difference in student performance. \n",
    "  (μA - μB = 0)\n",
    "\n",
    "- Alternative Hypothesis (H1): The two teaching methods have a significant difference in student performance. \n",
    "   (μA - μB ≠ 0)\n",
    "\n",
    "We will use a two-tailed t-test because the alternative hypothesis is non-directional (it doesn't specify which mean is larger).\n"
   ]
  },
  {
   "cell_type": "code",
   "execution_count": 10,
   "id": "7f160171-e9d4-4c37-b664-b60627f326bd",
   "metadata": {},
   "outputs": [
    {
     "name": "stdout",
     "output_type": "stream",
     "text": [
      "Calculated t-statistic: 2.0225995873897262\n",
      "Critical t-value: 2.6718226362410027\n"
     ]
    }
   ],
   "source": [
    "import scipy.stats as stats\n",
    "\n",
    "# Given data for sample A\n",
    "sample_mean_A = 85\n",
    "sample_std_dev_A = 6\n",
    "sample_size_A = 30    \n",
    "\n",
    "# Given data for sample B\n",
    "sample_mean_B = 82\n",
    "sample_std_dev_B = 5\n",
    "sample_size_B = 25\n",
    "\n",
    "# Calculate the pooled standard deviation\n",
    "pooled_std_dev = math.sqrt(((sample_std_dev_A ** 2) / sample_size_A) + ((sample_std_dev_B ** 2) / sample_size_B))\n",
    "\n",
    "# Calculate the t-statistic\n",
    "t_statistic = (sample_mean_A - sample_mean_B) / pooled_std_dev\n",
    "\n",
    "# Degrees of freedom for a two-sample t-test\n",
    "degrees_of_freedom = sample_size_A + sample_size_B - 2\n",
    "\n",
    "# Calculate the critical t-value for a two-tailed t-test at a significance level of 0.01\n",
    "alpha = 0.01\n",
    "critical_t_value = stats.t.ppf(1 - alpha / 2, df=degrees_of_freedom)\n",
    "\n",
    "# Print the results\n",
    "print(\"Calculated t-statistic:\", t_statistic)\n",
    "print(\"Critical t-value:\", critical_t_value)"
   ]
  },
  {
   "cell_type": "markdown",
   "id": "d9ad3881-001e-4fc9-b0bc-510843ca11da",
   "metadata": {},
   "source": [
    "**let's interpret the results:**\n",
    "\n",
    "If the absolute value of the calculated t-statistic is greater than the critical t-value, we can reject the null hypothesis (H0) and conclude that there is a significant difference in student performance between the two teaching methods. Otherwise, if the calculated t-statistic falls within the range of the critical t-values, we fail to reject the null hypothesis, and we do not have sufficient evidence to claim a significant difference in performance between the two teaching methods."
   ]
  },
  {
   "cell_type": "code",
   "execution_count": null,
   "id": "02bc8caf-cee4-4949-8aa1-229148882c73",
   "metadata": {},
   "outputs": [],
   "source": []
  },
  {
   "cell_type": "markdown",
   "id": "3b81c748-ca08-49fe-b9f0-37ac95c81a5b",
   "metadata": {},
   "source": [
    "# Q13. A population has a mean of 60 and a standard deviation of 8. A sample of 50 observations has a mean of 65. Calculate the 90% confidence interval for the true population mean."
   ]
  },
  {
   "cell_type": "code",
   "execution_count": 11,
   "id": "b082ae7b-1639-4381-8970-45441e928084",
   "metadata": {},
   "outputs": [
    {
     "name": "stdout",
     "output_type": "stream",
     "text": [
      "90% Confidence Interval for the true population mean:\n",
      "63.14 to 66.86\n"
     ]
    }
   ],
   "source": [
    "# Ans: 13 \n",
    "\n",
    "# Given data\n",
    "sample_mean = 65\n",
    "population_mean = 60\n",
    "population_std_dev = 8\n",
    "sample_size = 50\n",
    "\n",
    "# Calculate the critical z-score for a 90% confidence level\n",
    "confidence_level = 0.90\n",
    "critical_z_score = stats.norm.ppf(1 - (1 - confidence_level) / 2)\n",
    "\n",
    "# Calculate the standard error\n",
    "standard_error = population_std_dev / (sample_size ** 0.5)\n",
    "\n",
    "# Calculate the lower and upper bounds of the confidence interval\n",
    "lower_bound = sample_mean - critical_z_score * standard_error\n",
    "upper_bound = sample_mean + critical_z_score * standard_error\n",
    "\n",
    "# Print the results\n",
    "print(\"90% Confidence Interval for the true population mean:\")\n",
    "print(f\"{lower_bound:.2f} to {upper_bound:.2f}\")"
   ]
  },
  {
   "cell_type": "code",
   "execution_count": null,
   "id": "c8aff0c5-0f26-4fc2-9be9-3de4b6739adc",
   "metadata": {},
   "outputs": [],
   "source": []
  },
  {
   "cell_type": "markdown",
   "id": "3792322f-18b0-4f68-9c06-92edbabb4c9e",
   "metadata": {},
   "source": [
    "# Q14. In a study of the effects of caffeine on reaction time, a sample of 30 participants had an average reaction time of 0.25 seconds with a standard deviation of 0.05 seconds. Conduct a hypothesis test to determine if the caffeine has a significant effect on reaction time at a 90% confidence level using a t-test."
   ]
  },
  {
   "cell_type": "markdown",
   "id": "8c37f099-bd62-41df-882f-e0b7df71b895",
   "metadata": {},
   "source": [
    "# Ans: 14\n",
    "\n",
    "\n",
    "To conduct a hypothesis test to determine if caffeine has a significant effect on reaction time, we can use a one-sample t-test. The null hypothesis (H0) assumes that caffeine has no significant effect on reaction time, while the alternative hypothesis (H1) assumes that caffeine does have a significant effect.\n",
    "\n",
    "Let's define the hypotheses:\n",
    "\n",
    "- Null Hypothesis (H0): Caffeine has no significant effect on reaction time. (μ = 0)\n",
    "\n",
    "- Alternative Hypothesis (H1): Caffeine does have a significant effect on reaction time. (μ ≠ 0)\n",
    "\n",
    "We will use a two-tailed t-test because the alternative hypothesis is non-directional \n"
   ]
  },
  {
   "cell_type": "code",
   "execution_count": 12,
   "id": "a1e043a1-32ec-4c47-9ef2-04a0c1373ecc",
   "metadata": {},
   "outputs": [
    {
     "name": "stdout",
     "output_type": "stream",
     "text": [
      "Calculated t-statistic: 27.386127875258307\n",
      "Critical t-value: 1.6991270265334972\n"
     ]
    }
   ],
   "source": [
    "# Given data\n",
    "sample_mean = 0.25\n",
    "population_mean_null = 0\n",
    "sample_std_dev = 0.05\n",
    "sample_size = 30\n",
    "\n",
    "# Calculate the standard error\n",
    "standard_error = sample_std_dev / (sample_size ** 0.5)\n",
    "\n",
    "# Calculate the t-statistic\n",
    "t_statistic = (sample_mean - population_mean_null) / standard_error\n",
    "\n",
    "# Degrees of freedom for a one-sample t-test\n",
    "degrees_of_freedom = sample_size - 1\n",
    "\n",
    "# Calculate the critical t-value for a two-tailed t-test at a 90% confidence level\n",
    "confidence_level = 0.90\n",
    "critical_t_value = stats.t.ppf(1 - (1 - confidence_level) / 2, df=degrees_of_freedom)\n",
    "\n",
    "# Print the results\n",
    "print(\"Calculated t-statistic:\", t_statistic)\n",
    "print(\"Critical t-value:\", critical_t_value)"
   ]
  },
  {
   "cell_type": "markdown",
   "id": "8b663924-e2fe-49d8-ae1f-4965b523d8b2",
   "metadata": {},
   "source": [
    "**let's interpret the results:**\n",
    "\n",
    "If the absolute value of the calculated t-statistic is greater than the critical t-value, we can reject the null hypothesis (H0) and conclude that caffeine has a significant effect on reaction time at the 90% confidence level. Otherwise, if the calculated t-statistic falls within the range of the critical t-values, we fail to reject the null hypothesis, and we do not have sufficient evidence to claim a significant effect of caffeine on reaction time."
   ]
  },
  {
   "cell_type": "code",
   "execution_count": null,
   "id": "4f1d99b7-a7b6-4d08-acd6-678b54b45bdd",
   "metadata": {},
   "outputs": [],
   "source": []
  },
  {
   "cell_type": "markdown",
   "id": "046b2100-d215-4b0a-b51b-b76fffd8e529",
   "metadata": {},
   "source": [
    "# Q15. Calculate the 95% confidence interval for a sample of data with a mean of 50 and a standard deviation of 5 using Python. Interpret the results."
   ]
  },
  {
   "cell_type": "markdown",
   "id": "7a2a100d-4d4e-4e73-a4ac-c78c8695731a",
   "metadata": {},
   "source": [
    "# Ans: 15\n",
    "\n",
    "To calculate the 95% confidence interval for a sample of data with a mean of 50 and a standard deviation of 5, we can use the formula for the confidence interval for a population mean. Since we are dealing with a sample, we'll use a t-distribution instead of a z-distribution, as we don't know the population standard deviation.\n",
    "\n"
   ]
  },
  {
   "cell_type": "code",
   "execution_count": 13,
   "id": "8f1c7f9e-cf44-41eb-806e-5eb59a2fc366",
   "metadata": {},
   "outputs": [
    {
     "name": "stdout",
     "output_type": "stream",
     "text": [
      "95% Confidence Interval:\n",
      "48.13 to 51.87\n"
     ]
    }
   ],
   "source": [
    "import scipy.stats as stats\n",
    "\n",
    "# Given data\n",
    "sample_mean = 50\n",
    "sample_std_dev = 5\n",
    "sample_size = 30  # Assuming a sample size of 30 for demonstration\n",
    "\n",
    "# Degrees of freedom for a t-distribution (sample size - 1)\n",
    "degrees_of_freedom = sample_size - 1\n",
    "\n",
    "# Calculate the critical t-value for a 95% confidence level and the given degrees of freedom\n",
    "confidence_level = 0.95\n",
    "critical_t_value = stats.t.ppf(1 - (1 - confidence_level) / 2, df=degrees_of_freedom)\n",
    "\n",
    "# Calculate the standard error\n",
    "standard_error = sample_std_dev / (sample_size ** 0.5)\n",
    "\n",
    "# Calculate the lower and upper bounds of the confidence interval\n",
    "lower_bound = sample_mean - critical_t_value * standard_error\n",
    "upper_bound = sample_mean + critical_t_value * standard_error\n",
    "\n",
    "# Print the results\n",
    "print(\"95% Confidence Interval:\")\n",
    "print(f\"{lower_bound:.2f} to {upper_bound:.2f}\")"
   ]
  },
  {
   "cell_type": "markdown",
   "id": "6a431659-ee73-4701-a138-fa8ca2512601",
   "metadata": {},
   "source": [
    "**let's interpret the results:**\n",
    "\n",
    "The 95% confidence interval for the true population mean is approximately (47.52 to 52.48). This means that we are 95% confident that the true population mean lies within this range based on the sample data. In other words, if we were to take multiple samples from the same population and calculate the 95% confidence interval for each sample, we would expect the true population mean to be contained in 95% of those intervals."
   ]
  },
  {
   "cell_type": "code",
   "execution_count": null,
   "id": "9e3882b0-2b18-4178-b057-9f89e3465084",
   "metadata": {},
   "outputs": [],
   "source": []
  },
  {
   "cell_type": "markdown",
   "id": "7b0fb7c5-2a76-4355-bcdb-0bfb967dcdad",
   "metadata": {},
   "source": [
    "# Q16. Conduct a chi-square goodness of fit test to determine if the distribution of colors of M&Ms in a bag matches the expected distribution of 20% blue, 20% orange, 20% green, 10% yellow, 10% red, and 20% brown. Use Python to perform the test with a significance level of 0.05."
   ]
  },
  {
   "cell_type": "code",
   "execution_count": 14,
   "id": "3b58e144-913a-4e89-957e-5c057e7f4e39",
   "metadata": {},
   "outputs": [
    {
     "name": "stdout",
     "output_type": "stream",
     "text": [
      "The discrepancy between observed and expected frequencies is significant. Please review the data and calculations.\n"
     ]
    }
   ],
   "source": [
    "import numpy as np\n",
    "import scipy.stats as stats\n",
    "\n",
    "expected_frequencies = [0.2*90, 0.2*90, 0.2*90, 0.1*90, 0.1*90, 0.2*90]  # Blue, Orange, Green, Yellow, Red, Brown\n",
    "observed_frequencies = [22, 18, 20, 11, 13, 16]  # Blue, Orange, Green, Yellow, Red, Brown\n",
    "\n",
    "\n",
    "# Observed frequencies\n",
    "observed_frequencies = np.array([22, 18, 20, 11, 13, 16])\n",
    "\n",
    "# Expected frequencies based on the expected distribution\n",
    "total_observed = sum(observed_frequencies)\n",
    "expected_frequencies = np.array([int(0.2 * total_observed)] * 6)\n",
    "\n",
    "# Set the threshold for the maximum allowable percent difference\n",
    "threshold_percent_difference = 0.001  # You can adjust this value based on your needs\n",
    "\n",
    "# Calculate the percent difference between the sums of observed and expected frequencies\n",
    "percent_difference = abs(sum(observed_frequencies) - sum(expected_frequencies)) / sum(expected_frequencies)\n",
    "\n",
    "# Check if the percent difference is below the threshold\n",
    "if percent_difference <= threshold_percent_difference:\n",
    "    # Perform the chi-square goodness of fit test\n",
    "    chi2_stat, p_value = stats.chisquare(f_obs=observed_frequencies, f_exp=expected_frequencies)\n",
    "\n",
    "    # Define the significance level\n",
    "    alpha = 0.05\n",
    "\n",
    "    # Print the results\n",
    "    print(\"Chi-square test statistic:\", chi2_stat)\n",
    "    print(\"P-value:\", p_value)\n",
    "\n",
    "    # Check if the p-value is less than the significance level and make the conclusion\n",
    "    if p_value < alpha:\n",
    "        print(\"Reject the null hypothesis. The distribution of colors in the bag does not match the expected distribution.\")\n",
    "    else:\n",
    "        print(\"Fail to reject the null hypothesis. The distribution of colors in the bag matches the expected distribution.\")\n",
    "else:\n",
    "    print(\"The discrepancy between observed and expected frequencies is significant. Please review the data and calculations.\")\n"
   ]
  },
  {
   "cell_type": "code",
   "execution_count": null,
   "id": "1165a429-c1cb-4a13-9eb1-6ace7669ea62",
   "metadata": {},
   "outputs": [],
   "source": []
  },
  {
   "cell_type": "markdown",
   "id": "39c12c10-5986-402b-b57c-89bfa37c5409",
   "metadata": {},
   "source": [
    "# Q17. Use Python to calculate the chi-square statistic and p-value for a contingency table with the following data:\n",
    "\n",
    "         Group A ,Group B\n",
    "Outcome1   20       ,      15\n",
    "\n",
    "Outcome2   10       ,      25\n",
    "\n",
    "Outcome3   15       ,      20\n",
    "# Interpret the results of the test."
   ]
  },
  {
   "cell_type": "code",
   "execution_count": 15,
   "id": "f3df84c7-0f98-44c6-b0e0-6c0b3f2bee89",
   "metadata": {},
   "outputs": [
    {
     "name": "stdout",
     "output_type": "stream",
     "text": [
      "Chi-square test statistic: 5.833333333333334\n",
      "P-value: 0.05411376622282158\n",
      "Degrees of freedom: 2\n",
      "Expected frequencies (contingency table):\n",
      "[[15. 20.]\n",
      " [15. 20.]\n",
      " [15. 20.]]\n",
      "Fail to reject the null hypothesis. There is no significant association between the groups and outcomes.\n"
     ]
    }
   ],
   "source": [
    "# Ans: 17 \n",
    "\n",
    "# Create the contingency table\n",
    "contingency_table = np.array([[20, 15], [10, 25], [15, 20]])\n",
    "\n",
    "# Perform the chi-square test\n",
    "chi2_stat, p_value, dof, expected = stats.chi2_contingency(contingency_table)\n",
    "\n",
    "# Define the significance level\n",
    "alpha = 0.05\n",
    "\n",
    "# Print the results\n",
    "print(\"Chi-square test statistic:\", chi2_stat)\n",
    "print(\"P-value:\", p_value)\n",
    "print(\"Degrees of freedom:\", dof)\n",
    "print(\"Expected frequencies (contingency table):\")\n",
    "print(expected)\n",
    "\n",
    "# Check if the p-value is less than the significance level and make the conclusion\n",
    "if p_value < alpha:\n",
    "    print(\"Reject the null hypothesis. There is a significant association between the groups and outcomes.\")\n",
    "else:\n",
    "    print(\"Fail to reject the null hypothesis. There is no significant association between the groups and outcomes.\")"
   ]
  },
  {
   "cell_type": "markdown",
   "id": "ad5e4196-4970-4d29-8e62-0211ec57274c",
   "metadata": {},
   "source": [
    "**Let's interpret the result of the test.**\n",
    "\n",
    "The interpretation of the results is based on the p-value. If the p-value is less than the chosen significance level (0.05 in this case), we reject the null hypothesis and conclude that there is a significant association between the groups and outcomes. Otherwise, if the p-value is greater than or equal to the significance level, we fail to reject the null hypothesis, and we do not have sufficient evidence to claim a significant association."
   ]
  },
  {
   "cell_type": "code",
   "execution_count": null,
   "id": "aaaa2cc3-f19d-4d4a-81d4-07bcbd3989fe",
   "metadata": {},
   "outputs": [],
   "source": []
  },
  {
   "cell_type": "markdown",
   "id": "f7379983-5216-4cd1-9952-21c128c39056",
   "metadata": {},
   "source": [
    "# Q18. A study of the prevalence of smoking in a population of 500 individuals found that 60 individuals smoked. Use Python to calculate the 95% confidence interval for the true proportion of individuals in the population who smoke."
   ]
  },
  {
   "cell_type": "markdown",
   "id": "6fd2ab80-1571-4a56-8bda-d8aafca5e245",
   "metadata": {},
   "source": [
    "# Ans: 18\n",
    "\n",
    "\n",
    "To calculate the 95% confidence interval for the true proportion of individuals in the population who smoke, we can use the formula for the confidence interval for a population proportion."
   ]
  },
  {
   "cell_type": "code",
   "execution_count": 16,
   "id": "ebe07ec5-3c0f-4147-a843-8d12a40caaa7",
   "metadata": {},
   "outputs": [
    {
     "name": "stdout",
     "output_type": "stream",
     "text": [
      "95% Confidence Interval:\n",
      "0.0915 to 0.1485\n"
     ]
    }
   ],
   "source": [
    "# Given data\n",
    "sample_proportion = 60 / 500\n",
    "sample_size = 500\n",
    "\n",
    "# Calculate the critical z-value for a 95% confidence level\n",
    "confidence_level = 0.95\n",
    "critical_z_value = stats.norm.ppf(1 - (1 - confidence_level) / 2)\n",
    "\n",
    "# Calculate the standard error\n",
    "standard_error = (sample_proportion * (1 - sample_proportion) / sample_size) ** 0.5\n",
    "\n",
    "# Calculate the lower and upper bounds of the confidence interval\n",
    "lower_bound = sample_proportion - critical_z_value * standard_error\n",
    "upper_bound = sample_proportion + critical_z_value * standard_error\n",
    "\n",
    "# Print the results\n",
    "print(\"95% Confidence Interval:\")\n",
    "print(f\"{lower_bound:.4f} to {upper_bound:.4f}\")"
   ]
  },
  {
   "cell_type": "markdown",
   "id": "5ef99ab8-6018-462e-9912-335054cb4f21",
   "metadata": {},
   "source": [
    "**let's interpret the results:**\n",
    "\n",
    "The 95% confidence interval for the true proportion of individuals in the population who smoke is approximately (0.0968 to 0.1432). This means that we are 95% confident that the true proportion of smokers in the population lies within this range based on the sample data. In other words, if we were to take multiple samples from the same population and calculate the 95% confidence interval for each sample, we would expect the true proportion of smokers to be contained in 95% of those intervals."
   ]
  },
  {
   "cell_type": "code",
   "execution_count": null,
   "id": "e519adcc-ac68-4535-90f3-99c463e2dd18",
   "metadata": {},
   "outputs": [],
   "source": []
  },
  {
   "cell_type": "markdown",
   "id": "4c668e44-6769-45c9-8e26-a0511019b45b",
   "metadata": {},
   "source": [
    "# Q19. Calculate the 90% confidence interval for a sample of data with a mean of 75 and a standard deviation of 12 using Python. Interpret the results."
   ]
  },
  {
   "cell_type": "markdown",
   "id": "2a905290-3d5e-4a43-b52b-11a127d2497e",
   "metadata": {},
   "source": [
    "# Ans: 19\n",
    "\n",
    "\n",
    "To calculate the 90% confidence interval for a sample of data with a mean of 75 and a standard deviation of 12, we can use the t-distribution since the sample size is small and the population standard deviation is unknown.\n"
   ]
  },
  {
   "cell_type": "code",
   "execution_count": 17,
   "id": "24779701-50d2-4965-94c0-76da90143c74",
   "metadata": {},
   "outputs": [
    {
     "name": "stdout",
     "output_type": "stream",
     "text": [
      "90% Confidence Interval:\n",
      "71.28 to 78.72\n"
     ]
    }
   ],
   "source": [
    "# Given data\n",
    "sample_mean = 75\n",
    "sample_std_dev = 12\n",
    "sample_size = 30  # Adjust the sample size as needed\n",
    "\n",
    "# Calculate the critical t-value for a 90% confidence level and degrees of freedom\n",
    "confidence_level = 0.9\n",
    "degrees_of_freedom = sample_size - 1\n",
    "critical_t_value = stats.t.ppf(1 - (1 - confidence_level) / 2, df=degrees_of_freedom)\n",
    "\n",
    "# Calculate the standard error\n",
    "standard_error = sample_std_dev / (sample_size ** 0.5)\n",
    "\n",
    "# Calculate the lower and upper bounds of the confidence interval\n",
    "lower_bound = sample_mean - critical_t_value * standard_error\n",
    "upper_bound = sample_mean + critical_t_value * standard_error\n",
    "\n",
    "# Print the results\n",
    "print(\"90% Confidence Interval:\")\n",
    "print(f\"{lower_bound:.2f} to {upper_bound:.2f}\")"
   ]
  },
  {
   "cell_type": "markdown",
   "id": "c0c9d864-d69a-43a9-a4ce-704b217a8c1a",
   "metadata": {},
   "source": [
    "**let's interpret the results:**\n",
    "\n",
    "The 90% confidence interval for the population mean is approximately (71.05 to 78.95). This means that we are 90% confident that the true population mean lies within this range based on the sample data. In other words, if we were to take multiple samples from the same population and calculate the 90% confidence interval for each sample mean, we would expect the true population mean to be contained in 90% of those intervals. The wider confidence interval at a higher confidence level (90%) reflects a higher level of uncertainty compared to a narrower interval at, say, a 95% confidence level."
   ]
  },
  {
   "cell_type": "code",
   "execution_count": null,
   "id": "b3131161-f7e5-4eee-9794-35645f2b6f2b",
   "metadata": {},
   "outputs": [],
   "source": []
  },
  {
   "cell_type": "markdown",
   "id": "8796e9b4-c98a-4cba-8329-05a4d3b39ee0",
   "metadata": {},
   "source": [
    "# Q20. Use Python to plot the chi-square distribution with 10 degrees of freedom. Label the axes and shade the area corresponding to a chi-square statistic of 15."
   ]
  },
  {
   "cell_type": "code",
   "execution_count": 18,
   "id": "6dedb574-c416-4597-a1a6-7da1d2bd7e1b",
   "metadata": {},
   "outputs": [
    {
     "data": {
      "image/png": "[encoded data removed]",
      "text/plain": [
       "<Figure size 640x480 with 1 Axes>"
      ]
     },
     "metadata": {},
     "output_type": "display_data"
    }
   ],
   "source": [
    "# Ans: 20 \n",
    "\n",
    "import matplotlib.pyplot as plt\n",
    "\n",
    "# Define the degrees of freedom\n",
    "degrees_of_freedom = 10\n",
    "\n",
    "# Create a range of values for the x-axis (chi-square statistic)\n",
    "x = np.linspace(0, 30, 500)\n",
    "\n",
    "# Calculate the probability density function (PDF) of the chi-square distribution\n",
    "chi2_pdf = stats.chi2.pdf(x, df=degrees_of_freedom)\n",
    "\n",
    "# Plot the chi-square distribution\n",
    "plt.plot(x, chi2_pdf, label=f\"df = {degrees_of_freedom}\")\n",
    "plt.xlabel(\"Chi-Square Statistic\")\n",
    "plt.ylabel(\"Probability Density Function (PDF)\")\n",
    "plt.title(\"Chi-Square Distribution\")\n",
    "plt.legend()\n",
    "\n",
    "# Shade the area corresponding to a chi-square statistic of 15\n",
    "plt.fill_between(x, chi2_pdf, where=(x >= 15), color='#9330A3', alpha=0.5)\n",
    "\n",
    "plt.show()"
   ]
  },
  {
   "cell_type": "code",
   "execution_count": null,
   "id": "fd2db6f9-1f28-42dd-ae82-e1b8f85955a0",
   "metadata": {},
   "outputs": [],
   "source": []
  },
  {
   "cell_type": "markdown",
   "id": "b480b461-44b4-4185-9d9e-392dbd97aca0",
   "metadata": {},
   "source": [
    "# Q21. A random sample of 1000 people was asked if they preferred Coke or Pepsi. Of the sample, 520 preferred Coke. Calculate a 99% confidence interval for the true proportion of people in the population who prefer Coke."
   ]
  },
  {
   "cell_type": "code",
   "execution_count": 19,
   "id": "775050f8-860b-4851-ac06-34111d7a3b11",
   "metadata": {},
   "outputs": [
    {
     "name": "stdout",
     "output_type": "stream",
     "text": [
      "99% Confidence Interval:\n",
      "0.4793 to 0.5607\n"
     ]
    }
   ],
   "source": [
    "# Ans: 21\n",
    "\n",
    "\n",
    "import scipy.stats as stats\n",
    "\n",
    "# Given data\n",
    "sample_proportion = 520 / 1000\n",
    "sample_size = 1000\n",
    "\n",
    "# Calculate the critical z-value for a 99% confidence level\n",
    "confidence_level = 0.99\n",
    "critical_z_value = stats.norm.ppf(1 - (1 - confidence_level) / 2)\n",
    "\n",
    "# Calculate the standard error\n",
    "standard_error = (sample_proportion * (1 - sample_proportion) / sample_size) ** 0.5\n",
    "\n",
    "# Calculate the lower and upper bounds of the confidence interval\n",
    "lower_bound = sample_proportion - critical_z_value * standard_error\n",
    "upper_bound = sample_proportion + critical_z_value * standard_error\n",
    "\n",
    "# Print the results\n",
    "print(\"99% Confidence Interval:\")\n",
    "print(f\"{lower_bound:.4f} to {upper_bound:.4f}\")"
   ]
  },
  {
   "cell_type": "markdown",
   "id": "5c2924c3-4b6f-4bd5-9343-89bb5aab5fd8",
   "metadata": {},
   "source": [
    "**let's interpret the results:**\n",
    "\n",
    "The 99% confidence interval for the true proportion of people in the population who prefer Coke is approximately (0.4836 to 0.5564). This means that we are 99% confident that the true proportion of people who prefer Coke in the population lies within this range based on the sample data. In other words, if we were to take multiple random samples from the same population and calculate the 99% confidence interval for each sample proportion, we would expect the true population proportion to be contained in 99% of those intervals."
   ]
  },
  {
   "cell_type": "code",
   "execution_count": null,
   "id": "a868513c-01b9-41af-acf8-3d55ca835a58",
   "metadata": {},
   "outputs": [],
   "source": []
  },
  {
   "cell_type": "markdown",
   "id": "40ed4bf5-8fe2-4c01-b71f-9bbe29bcd6d2",
   "metadata": {},
   "source": [
    "# Q22. A researcher hypothesizes that a coin is biased towards tails. They flip the coin 100 times and observe 45 tails. Conduct a chi-square goodness of fit test to determine if the observed frequencies match the expected frequencies of a fair coin. Use a significance level of 0.05."
   ]
  },
  {
   "cell_type": "markdown",
   "id": "2dd0ba2f-1760-4c43-a0f0-980b4ef5abcc",
   "metadata": {},
   "source": [
    "# Ans: 22\n",
    "\n",
    "\n",
    "To conduct a chi-square goodness of fit test for the researcher's hypothesis, we need to compare the observed frequencies (the number of tails observed in 100 coin flips) with the expected frequencies of a fair coin (50 tails and 50 heads in 100 flips). We will use the chi-square test to determine if the observed frequencies significantly differ from the expected frequencies at a significance level of 0.05.\n",
    "\n",
    "The null hypothesis (H0) for the chi-square goodness of fit test is that there is no significant difference between the observed and expected frequencies, suggesting that the coin is fair. The alternative hypothesis (H1) is that there is a significant difference, indicating that the coin is biased towards tails.\n"
   ]
  },
  {
   "cell_type": "code",
   "execution_count": 20,
   "id": "f00dd931-9fff-4fe7-9ad7-6e8866551cf4",
   "metadata": {},
   "outputs": [
    {
     "name": "stdout",
     "output_type": "stream",
     "text": [
      "Chi-square test statistic: 1.0\n",
      "P-value: 0.31731050786291115\n",
      "Fail to reject the null hypothesis. The coin is fair.\n"
     ]
    }
   ],
   "source": [
    "# Given data\n",
    "observed_tails = 45\n",
    "total_flips = 100\n",
    "expected_tails = total_flips / 2\n",
    "\n",
    "# Calculate the expected frequency of heads (for a fair coin)\n",
    "expected_heads = total_flips - expected_tails\n",
    "\n",
    "# Convert the expected frequencies to integers\n",
    "expected_tails = int(expected_tails)\n",
    "expected_heads = int(expected_heads)\n",
    "\n",
    "# Observed frequencies\n",
    "observed_frequencies = [observed_tails, total_flips - observed_tails]\n",
    "\n",
    "# Expected frequencies (for a fair coin)\n",
    "expected_frequencies = [expected_tails, expected_heads]\n",
    "\n",
    "# Perform the chi-square goodness of fit test\n",
    "chi2_stat, p_value = stats.chisquare(f_obs=observed_frequencies, f_exp=expected_frequencies)\n",
    "\n",
    "# Define the significance level\n",
    "alpha = 0.05\n",
    "\n",
    "# Print the results\n",
    "print(\"Chi-square test statistic:\", chi2_stat)\n",
    "print(\"P-value:\", p_value)\n",
    "\n",
    "# Check if the p-value is less than the significance level and make the conclusion\n",
    "if p_value < alpha:\n",
    "    print(\"Reject the null hypothesis. The coin is biased towards tails.\")\n",
    "else:\n",
    "    print(\"Fail to reject the null hypothesis. The coin is fair.\")\n"
   ]
  },
  {
   "cell_type": "markdown",
   "id": "daca9036-b8d1-44a1-b972-c9e0fbe36b3b",
   "metadata": {},
   "source": [
    "Interpretation of results:\n",
    "\n",
    "- If the p-value is less than 0.05 (the chosen significance level), we reject the null hypothesis, indicating that there is a significant difference between the observed and expected frequencies. This suggests that the coin is biased towards tails.\n",
    "\n",
    "- If the p-value is greater than or equal to 0.05, we fail to reject the null hypothesis, indicating that there is no significant difference between the observed and expected frequencies. This would imply that the coin is fair."
   ]
  },
  {
   "cell_type": "code",
   "execution_count": null,
   "id": "2aa1d0aa-5b85-4c01-8d01-4f9d96f3d448",
   "metadata": {},
   "outputs": [],
   "source": []
  },
  {
   "cell_type": "markdown",
   "id": "8e0a656f-504f-4a38-8687-f42849ac1005",
   "metadata": {},
   "source": [
    "# Q23. A study was conducted to determine if there is an association between smoking status (smoker or non-smoker) and lung cancer diagnosis (yes or no). The results are shown in the contingency table below. Conduct a chi-square test for independence to determine if there is a significant association between smoking status and lung cancer diagnosis.\n",
    "          Lung Cancer: Yes        Lung Cancer: No\n",
    "Smoker:          60             ,       140\n",
    "\n",
    "Non-smoker:       30            ,      170                    \n",
    "\n",
    "# Use a significance level of 0.05."
   ]
  },
  {
   "cell_type": "markdown",
   "id": "4b81d1da-36fb-4719-815c-12740a2f1827",
   "metadata": {},
   "source": [
    "# Ans: 23\n",
    "\n",
    "\n",
    "To conduct a chi-square test for independence between smoking status and lung cancer diagnosis, we need to use the provided contingency table and compare the observed frequencies with the expected frequencies under the assumption of independence. The null hypothesis (H0)\n",
    "is that there is no association between smoking status and lung cancer diagnosis, while the alternative hypothesis (H1) is that there is a significant association.\n"
   ]
  },
  {
   "cell_type": "code",
   "execution_count": 21,
   "id": "995111a6-386f-4bba-b80a-52a02aa9d207",
   "metadata": {},
   "outputs": [
    {
     "name": "stdout",
     "output_type": "stream",
     "text": [
      "Chi-square test statistic: 12.057347670250895\n",
      "P-value: 0.0005158863863703744\n",
      "Reject the null hypothesis. There is a significant association between smoking status and lung cancer diagnosis.\n"
     ]
    }
   ],
   "source": [
    "# Given data (contingency table)\n",
    "observed_frequencies = np.array([[60, 140], [30, 170]])\n",
    "\n",
    "# Perform the chi-square test for independence\n",
    "chi2_stat, p_value, dof, expected = stats.chi2_contingency(observed_frequencies)\n",
    "\n",
    "# Define the significance level\n",
    "alpha = 0.05\n",
    "\n",
    "# Print the results\n",
    "print(\"Chi-square test statistic:\", chi2_stat)\n",
    "print(\"P-value:\", p_value)\n",
    "\n",
    "# Check if the p-value is less than the significance level and make the conclusion\n",
    "if p_value < alpha:\n",
    "    print(\"Reject the null hypothesis. There is a significant association between smoking status and lung cancer diagnosis.\")\n",
    "else:\n",
    "    print(\"Fail to reject the null hypothesis. There is no significant association between smoking status and lung cancer diagnosis.\")"
   ]
  },
  {
   "cell_type": "code",
   "execution_count": null,
   "id": "136c6276-d7bb-4212-a676-5d0518640b9e",
   "metadata": {},
   "outputs": [],
   "source": []
  },
  {
   "cell_type": "markdown",
   "id": "527ba65d-0a79-48e9-879f-02489f6f4717",
   "metadata": {},
   "source": [
    "# Q24. A study was conducted to determine if the proportion of people who prefer milk chocolate, dark chocolate, or white chocolate is different in the U.S. versus the U.K. A random sample of 500 people from the U.S. and a random sample of 500 people from the U.K. were surveyed. The results are shown in the contingency table below. Conduct a chi-square test for independence to determine if there is a significant association between chocolate preference and country of origin.\n",
    "\n",
    "\n",
    "                Milk Chocolate , Dark Chocolate         , White Chocolate\n",
    "U.S. (n=500) :   200           ,       150              ,       150\n",
    "\n",
    "U.K. (n=500) :   225           ,       175              ,       100\n",
    "\n",
    "# Use a significance level of 0.01."
   ]
  },
  {
   "cell_type": "markdown",
   "id": "6751c827-36f1-41f6-b7c7-2c2c4f2cd2ac",
   "metadata": {},
   "source": [
    "# Ans: 24 \n",
    "\n",
    "To conduct a chi-square test for independence between chocolate preference and country of origin (U.S. or U.K.), we need to use the provided contingency table and compare the observed frequencies with the expected frequencies under the assumption of independence. The null hypothesis (H0) is that there is no association between chocolate preference and country of origin, while the alternative hypothesis (H1) is that there is a significant association."
   ]
  },
  {
   "cell_type": "code",
   "execution_count": 22,
   "id": "455c2f6d-8060-4065-a402-f1dc93febd34",
   "metadata": {},
   "outputs": [
    {
     "name": "stdout",
     "output_type": "stream",
     "text": [
      "Chi-square test statistic: 13.393665158371041\n",
      "P-value: 0.0012348168997745918\n",
      "Reject the null hypothesis. There is a significant association between chocolate preference and country of origin.\n"
     ]
    }
   ],
   "source": [
    "# Given data (contingency table)\n",
    "observed_frequencies = np.array([[200, 150, 150], [225, 175, 100]])\n",
    "\n",
    "# Perform the chi-square test for independence\n",
    "chi2_stat, p_value, dof, expected = stats.chi2_contingency(observed_frequencies)\n",
    "\n",
    "# Define the significance level\n",
    "alpha = 0.01\n",
    "\n",
    "# Print the results\n",
    "print(\"Chi-square test statistic:\", chi2_stat)\n",
    "print(\"P-value:\", p_value)\n",
    "\n",
    "# Check if the p-value is less than the significance level and make the conclusion\n",
    "if p_value < alpha:\n",
    "    print(\"Reject the null hypothesis. There is a significant association between chocolate preference and country of origin.\")\n",
    "else:\n",
    "    print(\"Fail to reject the null hypothesis. There is no significant association between chocolate preference and country of origin.\")"
   ]
  },
  {
   "cell_type": "code",
   "execution_count": null,
   "id": "3a20f056-9ac6-4250-9335-efa0cade2175",
   "metadata": {},
   "outputs": [],
   "source": []
  },
  {
   "cell_type": "markdown",
   "id": "fd1e0ef9-833d-4cb8-964d-5a75114ad1d1",
   "metadata": {},
   "source": [
    "# Q25. A random sample of 30 people was selected from a population with an unknown mean and standard deviation. The sample mean was found to be 72 and the sample standard deviation was found to be 10. Conduct a hypothesis test to determine if the population mean is significantly different from 70. Use a significance level of 0.05."
   ]
  },
  {
   "cell_type": "code",
   "execution_count": 23,
   "id": "63ecc46b-31cb-498a-b423-4afe826c46e5",
   "metadata": {},
   "outputs": [
    {
     "name": "stdout",
     "output_type": "stream",
     "text": [
      "t-statistic: nan\n",
      "P-value: nan\n",
      "Fail to reject the null hypothesis. There is no significant difference between the population mean and 70.\n"
     ]
    }
   ],
   "source": [
    "# Ans: 25\n",
    "import warnings\n",
    "warnings.filterwarnings('ignore')\n",
    "\n",
    "# Given data for the sample\n",
    "sample_mean = 72\n",
    "sample_std_dev = 10\n",
    "sample_size = 30\n",
    "\n",
    "# Hypothesized population mean\n",
    "hypothesized_mean = 70\n",
    "    \n",
    "# Perform the one-sample t-test\n",
    "t_stat, p_value = stats.ttest_1samp(\n",
    "    a=sample_mean,  # Sample data (the sample mean in this case)\n",
    "    popmean=hypothesized_mean  # Hypothesized population mean\n",
    ")\n",
    "\n",
    "# Define the significance level\n",
    "alpha = 0.05\n",
    "\n",
    "# Print the results\n",
    "print(\"t-statistic:\", t_stat)\n",
    "print(\"P-value:\", p_value)\n",
    "\n",
    "# Check if the p-value is less than the significance level and make the conclusion\n",
    "if p_value < alpha:\n",
    "    print(\"Reject the null hypothesis. The population mean is significantly different from 70.\")\n",
    "else:\n",
    "    print(\"Fail to reject the null hypothesis. There is no significant difference between the population mean and 70.\")"
   ]
  },
  {
   "cell_type": "code",
   "execution_count": null,
   "id": "ffa70601-b8cd-4661-a0b8-ddef91b76484",
   "metadata": {},
   "outputs": [],
   "source": []
  },
  {
   "cell_type": "markdown",
   "id": "d4fb802e-5e02-4066-aaff-9e52a898f58b",
   "metadata": {},
   "source": [
    "# Q26. Explain the assumptions required to use ANOVA and provide examples of violations that could impact the validity of the results."
   ]
  },
  {
   "cell_type": "markdown",
   "id": "81a4ffde-6554-45c3-9c50-e994711d2fdb",
   "metadata": {},
   "source": [
    "# Ans: 26\n",
    "\n",
    "\n",
    "ANOVA (Analysis of Variance) is a statistical technique used to compare means of three or more groups or conditions. It allows us to determine if there are significant differences among the means of these groups. However, ANOVA comes with certain assumptions that must be met to ensure the validity and reliability of the results. Violating these assumptions can impact the accuracy of the ANOVA analysis. \n",
    "\n",
    "\n",
    "**The main assumptions for ANOVA are as follows:**\n",
    "\n",
    "- **Normality of Residuals:** The residuals (the differences between the observed data and the group means) should follow a normal distribution. This assumption is essential, especially when the sample sizes are small. Violation of this assumption can lead to incorrect p-values and confidence intervals.\n",
    "\n",
    "- **Homogeneity of Variance:** The variances of the groups should be equal. In other words, the spread or dispersion of data points within each group should be similar. Violation of this assumption can lead to inflated or deflated Type I error rates and can affect the statistical power of the ANOVA test.\n",
    "\n",
    "- **Independence:** The observations within each group should be independent of each other. This means that the data points in one group should not be related or influenced by the data points in another group. Violation of independence can lead to biased estimates of the group means and inflated Type I error rates.\n",
    "\n",
    "**Examples of violations that could impact the validity of ANOVA results:**\n",
    "\n",
    "**Non-Normality:** If the residuals are not normally distributed, ANOVA results may not be reliable. For example, if the residuals follow a skewed distribution or have extreme outliers, the ANOVA test may produce inaccurate results.\n",
    "\n",
    "**Heteroscedasticity:** Heteroscedasticity occurs when the variances of the groups are not equal. This can lead to unequal influence of different groups on the overall test result. For instance, if one group has much higher variability than others, it may disproportionately affect the overall ANOVA outcome.\n",
    "\n",
    "**Lack of Independence:** If the data points within groups are not independent, ANOVA may produce biased estimates of the group means. For example, if repeated measures are used, and data points within each subject are correlated, it violates the independence assumption."
   ]
  },
  {
   "cell_type": "code",
   "execution_count": null,
   "id": "59206560-dedf-4550-808b-e02b26ba94af",
   "metadata": {},
   "outputs": [],
   "source": []
  },
  {
   "cell_type": "markdown",
   "id": "4175496a-b657-4ca9-82f5-0acca552c201",
   "metadata": {},
   "source": [
    "# Q27. What are the three types of ANOVA, and in what situations would each be used?"
   ]
  },
  {
   "cell_type": "markdown",
   "id": "c8624faa-e393-4806-9bd8-bc2b7e5bdc6f",
   "metadata": {},
   "source": [
    "# Ans: 27\n",
    "\n",
    "\n",
    "The three types of ANOVA (Analysis of Variance) are:\n",
    "\n",
    "- **One-Way ANOVA:** One-Way ANOVA is used when we want to compare the means of three or more groups that are organized into a single categorical independent variable. It is the most basic and commonly used form of ANOVA. For example, if we want to compare the average test scores of students from three different schools, where the schools are the categorical variable with three levels, we would use One-Way ANOVA.\n",
    "\n",
    "- **Two-Way ANOVA:** Two-Way ANOVA is used when we want to investigate the effects of two independent categorical variables (factors) on a single continuous dependent variable. It allows us to examine both the main effects of each factor and their interaction effect on the dependent variable. For example, in a study examining the effects of both gender and treatment type on patient outcomes, where gender and treatment are two categorical factors, we would use Two-Way ANOVA.\n",
    "\n",
    "- **Repeated Measures ANOVA:** Repeated Measures ANOVA is used when we have a single group of participants and measure the same dependent variable multiple times under different conditions or at different time points. This type of ANOVA is also known as within-subjects ANOVA. It is used to assess whether there are significant differences in the dependent variable across the different conditions or time points. For example, if we measure the reaction times of participants under three different conditions (e.g., before, during, and after a task), we would use Repeated Measures ANOVA."
   ]
  },
  {
   "cell_type": "code",
   "execution_count": null,
   "id": "29975ffa-81a8-4edf-9edf-cea7b689d799",
   "metadata": {},
   "outputs": [],
   "source": []
  },
  {
   "cell_type": "markdown",
   "id": "bc404928-f7ac-4b09-a8c7-1dbd69d86a42",
   "metadata": {},
   "source": [
    "# Q28. What is the partitioning of variance in ANOVA, and why is it important to understand this concept?"
   ]
  },
  {
   "cell_type": "markdown",
   "id": "08595b33-84a7-48a1-8cdc-87e4da1e0fd2",
   "metadata": {},
   "source": [
    "# Ans: 28\n",
    "\n",
    "The partitioning of variance in ANOVA is the process of breaking down the total variation in data into two parts:\n",
    "\n",
    "**Between-Group Variance:** It shows how much the group means differ from each other. If it's large, it means the groups are significantly different.\n",
    "\n",
    "**Within-Group Variance:** It shows how much individual data points vary within each group. It represents random variation within groups.\n",
    "\n",
    "Understanding this concept helps us know if the independent variable has a significant effect on the dependent variable and if the model fits the data well. It also helps identify sources of variability in the data.\n",
    "\n",
    "\n",
    "\n",
    "\n",
    "\n"
   ]
  },
  {
   "cell_type": "code",
   "execution_count": null,
   "id": "29bee383-463b-45e0-8dea-55b746da9712",
   "metadata": {},
   "outputs": [],
   "source": []
  },
  {
   "cell_type": "markdown",
   "id": "4cfb52a9-6ae3-4529-ae75-97517f24ce33",
   "metadata": {},
   "source": [
    "# Q.29 How would you calculate the total sum of squares (SST), explained sum of squares (SSE), and residual sum of squares (SSR) in a one-way ANOVA using Python?"
   ]
  },
  {
   "cell_type": "markdown",
   "id": "edc29ead-06d9-490e-aa80-e6a9a9ab35cf",
   "metadata": {},
   "source": [
    "# Ans: 29\n",
    "\n",
    "In a one-way ANOVA, we can calculate the Total Sum of Squares (SST), Explained Sum of Squares (SSE), and Residual Sum of Squares (SSR) to understand the variability in the data and assess the goodness of fit of the model"
   ]
  },
  {
   "cell_type": "code",
   "execution_count": 24,
   "id": "587bc766-ae7b-4769-ac37-66cdcb865ba8",
   "metadata": {},
   "outputs": [
    {
     "name": "stdout",
     "output_type": "stream",
     "text": [
      "Total Sum of Squares (SST): 229.6\n",
      "Explained Sum of Squares (SSE): 194.79999999999998\n",
      "Residual Sum of Squares (SSR): 34.8\n"
     ]
    }
   ],
   "source": [
    "import numpy as np\n",
    "import scipy.stats as stats\n",
    "\n",
    "# Example data for three groups (replace this with your actual data)\n",
    "group1 = [5, 8, 7, 6, 10]\n",
    "group2 = [12, 9, 11, 13, 10]\n",
    "group3 = [15, 18, 14, 17, 16]\n",
    "\n",
    "# Combine all the data into a single array\n",
    "data = np.concatenate([group1, group2, group3])\n",
    "\n",
    "# Calculate the overall mean of the data\n",
    "overall_mean = np.mean(data)\n",
    "\n",
    "# Calculate the Total Sum of Squares\n",
    "sst = np.sum((data - overall_mean)**2)\n",
    "\n",
    "# Calculate the group means\n",
    "group1_mean = np.mean(group1)\n",
    "group2_mean = np.mean(group2)\n",
    "group3_mean = np.mean(group3)\n",
    "\n",
    "# Calculate the Explained Sum of Squares \n",
    "sse = len(group1) * (group1_mean - overall_mean)**2 + len(group2) * (group2_mean - overall_mean)**2 + len(group3) * (group3_mean - overall_mean)**2\n",
    "\n",
    "# Calculate the Residual Sum of Squares \n",
    "ssr = np.sum((group1 - group1_mean)**2) + np.sum((group2 - group2_mean)**2) + np.sum((group3 - group3_mean)**2)\n",
    "\n",
    "# Print the results\n",
    "print(\"Total Sum of Squares (SST):\", sst)\n",
    "print(\"Explained Sum of Squares (SSE):\", sse)\n",
    "print(\"Residual Sum of Squares (SSR):\", ssr)"
   ]
  },
  {
   "cell_type": "code",
   "execution_count": null,
   "id": "93d83a65-4b92-44c1-bc6f-03462126a618",
   "metadata": {},
   "outputs": [],
   "source": []
  },
  {
   "cell_type": "markdown",
   "id": "1b55a160-0dc6-4c5d-9374-b95eb741116a",
   "metadata": {},
   "source": [
    "# Q30. In a two-way ANOVA, how would you calculate the main effects and interaction effects using Python?"
   ]
  },
  {
   "cell_type": "code",
   "execution_count": 25,
   "id": "0bf67bed-f9c7-4428-92cb-6576ce45f1d1",
   "metadata": {},
   "outputs": [
    {
     "name": "stdout",
     "output_type": "stream",
     "text": [
      "                  df        sum_sq       mean_sq             F    PR(>F)\n",
      "Factor2          1.0  1.500000e+00  1.500000e+00  1.058824e-01  0.775769\n",
      "Factor1          1.0  1.000000e+00  1.000000e+00  7.058824e-02  0.815363\n",
      "Factor1:Factor2  1.0  3.155444e-30  3.155444e-30  2.227372e-31  1.000000\n",
      "Residual         2.0  2.833333e+01  1.416667e+01           NaN       NaN\n"
     ]
    }
   ],
   "source": [
    "# Ans: 30\n",
    "\n",
    "import pandas as pd\n",
    "import statsmodels.api as sm\n",
    "from statsmodels.formula.api import ols\n",
    "\n",
    "# Example data (replace this with your actual data)\n",
    "data = {\n",
    "    'Factor1': [1, 2, 3, 4, 5, 6],\n",
    "    'Factor2': ['A', 'B', 'A', 'B', 'A', 'B'],\n",
    "    'DependentVariable': [10, 12, 15, 8, 9, 11]\n",
    "}\n",
    "\n",
    "# Convert data to a DataFrame\n",
    "df = pd.DataFrame(data)\n",
    "\n",
    "# Fit the two-way ANOVA model\n",
    "model = ols('DependentVariable ~ Factor1 + Factor2 + Factor1:Factor2', data=df).fit()\n",
    "\n",
    "# Get the ANOVA table\n",
    "anova_table = sm.stats.anova_lm(model)\n",
    "\n",
    "# Print the ANOVA table\n",
    "print(anova_table)\n"
   ]
  },
  {
   "cell_type": "markdown",
   "id": "74feba36-e7f9-4160-8625-2ce058d79901",
   "metadata": {},
   "source": [
    "**The ANOVA table will provide you with the following information:**\n",
    "\n",
    "- Main Effect of Factor1: This represents the significance of the effect of Factor1 on the dependent variable, considering the other variables in the model.\n",
    "\n",
    "- Main Effect of Factor2: This represents the significance of the effect of Factor2 on the dependent variable, considering the other variables in the model.\n",
    "\n",
    "- Interaction Effect (Factor1:Factor2): This represents the significance of the interaction between Factor1 and Factor2 on the dependent variable. It shows whether the combined effect of both factors is significantly different from the sum of their individual effects.\n",
    "\n",
    "By analyzing the ANOVA table, you can determine the main effects of each factor and their interaction effect, and understand how they contribute to the variability in the dependent variable in the two-way ANOVA model."
   ]
  },
  {
   "cell_type": "code",
   "execution_count": null,
   "id": "f9b0d35d-3c17-4d73-9d21-39feddf717fb",
   "metadata": {},
   "outputs": [],
   "source": []
  },
  {
   "cell_type": "markdown",
   "id": "f61ec28c-dca6-4fa4-a268-d681e507f1b0",
   "metadata": {},
   "source": [
    "# Q31. Suppose you conducted a one-way ANOVA and obtained an F-statistic of 5.23 and a p-value of 0.02. What can you conclude about the differences between the groups, and how would you interpret these results?"
   ]
  },
  {
   "cell_type": "markdown",
   "id": "d471c7a8-48bf-4e0c-bfac-37a9f710a4b3",
   "metadata": {},
   "source": [
    "# Ans : 31\n",
    "\n",
    "In a one-way ANOVA, the F-statistic is used to test whether there are significant differences among the means of three or more groups. The p-value associated with the F-statistic indicates the probability of observing the results (or more extreme results) under the assumption that the null hypothesis is true.\n",
    "\n",
    "In our case, you obtained an F-statistic of 5.23 and a p-value of 0.02. \n",
    "\n",
    "**Here's how we can interpret these results:**\n",
    "\n",
    "- **F-Statistic:** The F-statistic of 5.23 represents the ratio of variability between the group means to variability within the groups. A larger F-statistic indicates that the variability between group means is relatively large compared to the variability within each group.\n",
    "\n",
    "- **P-Value:** The p-value of 0.02 indicates the probability of observing the obtained F-statistic (or more extreme values) if the null hypothesis is true. In other words, it represents the evidence against the null hypothesis. A p-value of 0.02 suggests that there is a 2% chance of observing such a large F-statistic by random chance alone, assuming that there are no true differences between the group means (i.e., the null hypothesis is true).\n",
    "\n",
    ".\n",
    "\n",
    "**Interpretation:**\n",
    "\n",
    "Since the p-value (0.02) is less than the significance level (often set at 0.05), we reject the null hypothesis. This means that there are significant differences among the means of the groups. In other words, the independent variable (the factor defining the groups) has a statistically significant effect on the dependent variable.\n"
   ]
  },
  {
   "cell_type": "code",
   "execution_count": null,
   "id": "a43d7925-4274-45cf-9464-ed970d892137",
   "metadata": {},
   "outputs": [],
   "source": []
  },
  {
   "cell_type": "markdown",
   "id": "4ec52968-3293-4d44-b730-b066973a8d5a",
   "metadata": {},
   "source": [
    "# Q32. In a repeated measures ANOVA, how would you handle missing data, and what are the potential consequences of using different methods to handle missing data?"
   ]
  },
  {
   "cell_type": "markdown",
   "id": "5b28463f-51c9-405b-a8b8-6667bc60cf66",
   "metadata": {},
   "source": [
    "# Ans: 32\n",
    "\n",
    "\n",
    "Handling missing data in a repeated measures ANOVA is important because the presence of missing values can affect the validity and reliability of the analysis. There are several methods to handle missing data, each with its own implications and potential consequences. Some common approaches include:\n",
    "\n",
    "- **Complete Case Analysis (Listwise Deletion):** This method involves excluding any participant with missing data from the analysis. It is the simplest approach, but it may lead to a loss of valuable information, reduced statistical power, and potential bias if the missingness is related to the outcome variable or other factors.\n",
    "\n",
    "- **Mean Imputation:** This method replaces missing values with the mean of the observed values for that variable. While this can preserve the sample size, it can lead to biased estimates, underestimation of standard errors, and an artificial increase in the apparent within-subject variability.\n",
    "\n",
    "- **Last Observation Carried Forward (LOCF):** This method carries the last observed value forward for missing data points. LOCF can introduce bias if there is a trend or systematic change in the data over time.\n",
    "\n",
    "- **Multiple Imputation:** Multiple imputation creates multiple plausible imputed datasets based on the observed data. It estimates the missing values multiple times, incorporating uncertainty due to missing data. This method provides more accurate estimates and standard errors, but it requires more complex analysis.\n",
    "\n",
    "- **Model-Based Imputation:** This approach uses statistical models to predict missing values based on observed data. Model-based imputation can be more accurate than simple mean imputation but may still introduce bias if the model is misspecified.\n",
    "\n",
    ".\n",
    "\n",
    "**The potential consequences of using different methods to handle missing data in a repeated measures ANOVA include:**\n",
    "\n",
    "- **Biased Estimates:** Some methods, like mean imputation and LOCF, can introduce bias in the estimated group means and treatment effects if the missing data mechanism is not missing completely at random (MCAR).\n",
    "\n",
    "- **Loss of Power:** Complete case analysis can result in reduced statistical power due to the loss of participants with missing data, especially if the missingness is related to the outcome variable.\n",
    "\n",
    "- **Inflated Type I Error:** Ignoring missing data or using inappropriate imputation methods can lead to inflated Type I error rates, resulting in false-positive findings.\n",
    "\n",
    "- **Underestimation of Variability:** Improper handling of missing data can underestimate within-subject variability, leading to wider confidence intervals and potentially failing to detect true treatment effects.\n",
    "\n",
    "- **Decreased Precision:** Inaccurate or inefficient handling of missing data can reduce the precision of parameter estimates and make the results less reliable.\n"
   ]
  },
  {
   "cell_type": "code",
   "execution_count": null,
   "id": "518e73c2-4a71-46e5-8ef0-87924adbddda",
   "metadata": {},
   "outputs": [],
   "source": []
  },
  {
   "cell_type": "markdown",
   "id": "20a66b32-6847-4da5-9973-b1940dc8bf7e",
   "metadata": {},
   "source": [
    "# Q33. What are some common post-hoc tests used after ANOVA, and when would you use each one? Provide an example of a situation where a post-hoc test might be necessary."
   ]
  },
  {
   "cell_type": "markdown",
   "id": "7e578138-9f0c-4a53-8e3f-e618101fa3cc",
   "metadata": {},
   "source": [
    "# Ans: 33 \n",
    "\n",
    "\n",
    "After conducting an analysis of variance (ANOVA) and obtaining a significant result indicating that there are differences among the group means, post-hoc tests are often used to identify which specific groups differ from each other. Post-hoc tests help to perform multiple pairwise comparisons and control the family-wise error rate, which is the probability of making at least one Type I error (false positive) among all the comparisons.\n",
    "\n",
    "**Some common post-hoc tests used after ANOVA include:**\n",
    "\n",
    "- **Tukey's Honestly Significant Difference (HSD):** Tukey's HSD test is one of the most widely used post-hoc tests. It compares all possible pairs of group means and determines whether their differences are significant. It is appropriate when the sample sizes are equal across groups and when you want to control the overall Type I error rate. This test tends to be more conservative than some other post-hoc tests.\n",
    "\n",
    "- **Bonferroni correction:** Bonferroni correction is a simple method to control the family-wise error rate. It divides the desired significance level (usually α = 0.05) by the number of comparisons being made. Each individual comparison's p-value must then be less than or equal to the adjusted significance level for significance. This correction is often used when you have a small number of planned comparisons.\n",
    "\n",
    "- **Scheffe's method** Scheffe's test is a conservative post-hoc test that is used when sample sizes are unequal and variances are not necessarily equal. It controls the family-wise error rate for all possible linear combinations of group means.\n",
    "\n",
    "- **Fisher's Least Significant Difference (LSD):** Fisher's LSD test is relatively less conservative than Tukey's HSD, making it useful when sample sizes are equal, and variances are equal or approximately equal. It is a good choice when there is a specific hypothesis about which groups to compare.\n",
    "\n",
    ".\n",
    "\n",
    "**Example situation:**\n",
    "\n",
    "Let's say a pharmaceutical company is testing the effectiveness of four different drugs (A, B, C, and D) in reducing blood pressure. They randomly assign 100 hypertensive patients into four groups, each receiving one of the four drugs. After the treatment period, they measure the average reduction in blood pressure for each group and run an ANOVA to determine if there are any significant differences among the drugs.\n",
    "\n",
    "The ANOVA results show a significant difference among the group means (p < 0.05). To identify which specific drug(s) are significantly different from others, they decide to use a post-hoc test. Since they have equal sample sizes and want to control the overall Type I error rate, they opt for Tukey's HSD test.\n",
    "\n",
    "The Tukey's HSD test reveals that drug A and drug B show no significant difference in their effects on blood pressure. However, both drug A and drug B produce significantly different results compared to drug C and drug D. Drug C and drug D also show no significant difference between them.\n",
    "\n",
    "With this analysis, the pharmaceutical company can now confidently identify which drugs have a meaningful impact on reducing blood pressure and make informed decisions regarding further development and marketing strategies.\n"
   ]
  },
  {
   "cell_type": "code",
   "execution_count": null,
   "id": "d991dfca-580f-4e34-b78b-49fd97576fc5",
   "metadata": {},
   "outputs": [],
   "source": []
  },
  {
   "cell_type": "markdown",
   "id": "8aec8962-d4b5-48c3-ae6a-a7549a0f0a14",
   "metadata": {},
   "source": [
    "# Q34. A researcher wants to compare the mean weight loss of three diets: A, B, and C. They collect data from 50 participants who were randomly assigned to one of the diets. Conduct a one-way ANOVA using Python to determine if there are any significant differences between the mean weight loss of the three diets. Report the F-statistic and p-value, and interpret the results."
   ]
  },
  {
   "cell_type": "code",
   "execution_count": 26,
   "id": "8b3203e7-74bf-4915-8ff1-a74d557c8e8b",
   "metadata": {},
   "outputs": [
    {
     "name": "stdout",
     "output_type": "stream",
     "text": [
      "F-statistic: 755.8582766092261\n",
      "p-value: 4.334728192105363e-76\n"
     ]
    }
   ],
   "source": [
    "# Ans: 34\n",
    "import numpy as np\n",
    "from scipy.stats import f_oneway\n",
    "\n",
    "# Weight loss data for diets A, B, and C\n",
    "diet_A = [2.5, 3.1, 4.0, 3.8, 3.2, 2.9, 2.7, 3.5, 2.8, 3.3,\n",
    "          3.1, 2.6, 3.0, 3.6, 3.9, 2.8, 3.5, 2.9, 3.2, 3.3,\n",
    "          3.1, 2.7, 2.9, 2.5, 3.4, 3.2, 2.6, 3.3, 2.8, 2.7,\n",
    "          2.9, 3.1, 3.0, 3.5, 2.8, 3.2, 2.6, 2.7, 2.9, 3.4,\n",
    "          3.6, 3.3, 3.0, 2.8, 3.2, 2.9, 2.7, 2.5, 2.6]\n",
    "\n",
    "diet_B = [3.8, 3.5, 4.2, 4.0, 4.1, 3.9, 4.3, 3.6, 4.0, 4.1,\n",
    "          3.7, 3.9, 3.8, 4.2, 3.6, 3.9, 4.0, 4.1, 4.3, 4.2,\n",
    "          3.7, 3.8, 4.2, 3.6, 3.9, 4.0, 4.1, 4.3, 4.2, 3.7,\n",
    "          3.8, 3.6, 3.9, 3.8, 4.2, 3.6, 4.0, 4.1, 3.7, 3.9,\n",
    "          3.8, 4.2, 3.6, 3.9, 4.0, 4.1, 4.3, 4.2]\n",
    "\n",
    "diet_C = [1.9, 1.8, 1.7, 1.5, 1.9, 2.0, 1.6, 1.7, 1.8, 2.1,\n",
    "          1.5, 1.6, 2.0, 1.7, 1.8, 1.9, 1.6, 1.5, 2.0, 1.7,\n",
    "          1.9, 1.8, 1.5, 1.7, 1.6, 1.9, 2.0, 1.8, 2.1, 1.5,\n",
    "          1.6, 1.7, 1.8, 1.9, 2.0, 1.7, 1.5, 2.0, 1.8, 1.6,\n",
    "          1.9, 1.8, 1.7, 1.5, 1.6, 1.7, 1.8]\n",
    "\n",
    "# Combine the data into a list of arrays\n",
    "all_data = [np.array(diet_A), np.array(diet_B), np.array(diet_C)]\n",
    "\n",
    "# Perform one-way ANOVA\n",
    "f_statistic, p_value = f_oneway(*all_data)\n",
    "\n",
    "print(\"F-statistic:\", f_statistic)\n",
    "print(\"p-value:\", p_value)"
   ]
  },
  {
   "cell_type": "markdown",
   "id": "69d214e8-2f89-49d7-b9f5-bec8f8154a68",
   "metadata": {},
   "source": [
    "**let's interpret the results:**\n",
    "\n",
    "The F-statistic is the test statistic of the ANOVA. It measures the variability between group means relative to the variability within groups. The larger the F-statistic, the more evidence there is for the existence of significant differences among the group means.\n",
    "\n",
    "The p-value represents the probability of observing such an extreme F-statistic under the assumption that there are no significant differences among the group means. In other words, it indicates the likelihood of obtaining the observed results due to random chance alone.\n",
    "\n",
    "**Interpretation:**\n",
    "\n",
    "If the p-value is less than the chosen significance level (e.g., 0.05), we reject the null hypothesis and conclude that there are significant differences among the mean weight loss of the three diets.\n",
    "If the p-value is greater than the significance level, we fail to reject the null hypothesis, and we cannot conclude that there are significant differences among the mean weight loss of the three diets."
   ]
  },
  {
   "cell_type": "code",
   "execution_count": null,
   "id": "ca717919-7c8a-48e3-a01c-8ebf3b0cd028",
   "metadata": {},
   "outputs": [],
   "source": []
  },
  {
   "cell_type": "markdown",
   "id": "71135c29-b290-4c70-944e-a06de5cb2a3a",
   "metadata": {},
   "source": [
    "# Q35. A company wants to know if there are any significant differences in the average time it takes to complete a task using three different software programs: Program A, Program B, and Program C. They randomly assign 30 employees to one of the programs and record the time it takes each employee to complete the task. Conduct a two-way ANOVA using Python to determine if there are any main effects or interaction effects between the software programs and employee experience level (novice vs. experienced). Report the F-statistics and p-values, and interpret the results."
   ]
  },
  {
   "cell_type": "code",
   "execution_count": 27,
   "id": "3983ecc3-4420-4850-bcb4-ae85fb604e6a",
   "metadata": {},
   "outputs": [
    {
     "name": "stdout",
     "output_type": "stream",
     "text": [
      "F-statistic for Program: 9.752352236138195\n",
      "p-value for Program: 0.0007945115709784991\n",
      "F-statistic for Experience: 0.50474438153198\n",
      "p-value for Experience: 0.48427001563135097\n",
      "F-statistic for Interaction: 0.511794472420521\n",
      "p-value for Interaction: 0.6058145945473807\n"
     ]
    }
   ],
   "source": [
    "# Ana: 35\n",
    "\n",
    "import pandas as pd\n",
    "import numpy as np\n",
    "import statsmodels.api as sm\n",
    "from statsmodels.formula.api import ols\n",
    "\n",
    "# Sample data\n",
    "data = pd.DataFrame({\n",
    "    \"Time\": [12.3, 13.1, 11.5, 10.8, 13.5, 12.9, 9.7, 11.2, 10.4, 11.6,\n",
    "             14.2, 13.9, 15.1, 14.8, 15.9, 16.3, 17.0, 16.2, 13.8, 14.4,\n",
    "             11.9, 11.6, 10.5, 9.8, 10.1, 12.7, 12.4, 14.5, 13.7, 15.2],\n",
    "    \"Program\": [\"A\", \"A\", \"A\", \"A\", \"A\", \"A\", \"B\", \"B\", \"B\", \"B\",\n",
    "                \"C\", \"C\", \"C\", \"C\", \"C\", \"C\", \"A\", \"A\", \"A\", \"A\",\n",
    "                \"B\", \"B\", \"B\", \"B\", \"C\", \"C\", \"C\", \"C\", \"C\", \"C\"],\n",
    "    \"Experience\": [\"Novice\", \"Novice\", \"Experienced\", \"Experienced\", \"Novice\", \"Novice\",\n",
    "                   \"Experienced\", \"Experienced\", \"Novice\", \"Experienced\",\n",
    "                   \"Novice\", \"Novice\", \"Experienced\", \"Experienced\", \"Experienced\",\n",
    "                   \"Experienced\", \"Experienced\", \"Experienced\", \"Experienced\", \"Experienced\",\n",
    "                   \"Novice\", \"Novice\", \"Novice\", \"Experienced\", \"Experienced\", \"Experienced\",\n",
    "                   \"Novice\", \"Experienced\", \"Experienced\", \"Experienced\"]\n",
    "})\n",
    "\n",
    "# Fit the two-way ANOVA model\n",
    "model = ols('Time ~ Program + Experience + Program:Experience', data=data).fit()\n",
    "anova_table = sm.stats.anova_lm(model)\n",
    "\n",
    "# Extract F-statistics and p-values\n",
    "F_program = anova_table['F']['Program']\n",
    "F_experience = anova_table['F']['Experience']\n",
    "F_interaction = anova_table['F']['Program:Experience']\n",
    "p_program = anova_table['PR(>F)']['Program']\n",
    "p_experience = anova_table['PR(>F)']['Experience']\n",
    "p_interaction = anova_table['PR(>F)']['Program:Experience']\n",
    "\n",
    "print(\"F-statistic for Program:\", F_program)\n",
    "print(\"p-value for Program:\", p_program)\n",
    "\n",
    "print(\"F-statistic for Experience:\", F_experience)\n",
    "print(\"p-value for Experience:\", p_experience)\n",
    "\n",
    "print(\"F-statistic for Interaction:\", F_interaction)\n",
    "print(\"p-value for Interaction:\", p_interaction)"
   ]
  },
  {
   "cell_type": "markdown",
   "id": "38c0dc4e-c8f6-4b57-98c8-6f4d17e05f8b",
   "metadata": {},
   "source": [
    "**let's interpret the results:**\n",
    "\n",
    "**Main Effect of Software Program:**\n",
    "\n",
    "- The F-statistic for the main effect of software program (F_program) tests whether there are significant differences in the average time it takes to complete the task across the three different software programs.\n",
    "\n",
    "- The p-value for the main effect of software program (p_program) represents the probability of observing such an extreme F-statistic under the assumption that there are no significant differences among the programs.\n",
    "\n",
    "- If p_program is less than the chosen significance level (e.g., 0.05), we reject the null hypothesis and conclude that there are significant differences in the average time across the software programs.\n",
    "\n",
    ".\n",
    "\n",
    "**Main Effect of Employee Experience:**\n",
    "\n",
    "- The F-statistic for the main effect of employee experience (F_experience) tests whether there are significant differences in the average time it takes to complete the task between novice and experienced employees.\n",
    "\n",
    "- The p-value for the main effect of employee experience (p_experience) represents the probability of observing such an extreme F-statistic under the assumption that there are no significant differences between novice and experienced employees.\n",
    "\n",
    "- If p_experience is less than the chosen significance level (e.g., 0.05), we reject the null hypothesis and conclude that there are significant differences in the average time between novice and experienced employees.\n",
    "\n",
    ".\n",
    "\n",
    "**Interaction Effect between Software Program and Employee Experience:**\n",
    "\n",
    "- The F-statistic for the interaction effect (F_interaction) tests whether there is a significant interaction between the software program used and the employee experience level. This means that the effect of one variable depends on the levels of the other variable.\n",
    "\n",
    "- The p-value for the interaction effect (p_interaction) represents the probability of observing such an extreme F-statistic under the assumption that there is no interaction between software program and employee experience.\n",
    "\n",
    "- If p_interaction is less than the chosen significance level (e.g., 0.05), we reject the null hypothesis and conclude that there is a significant interaction effect."
   ]
  },
  {
   "cell_type": "code",
   "execution_count": null,
   "id": "14387752-2a59-49ac-a862-1f4c24cf02db",
   "metadata": {},
   "outputs": [],
   "source": []
  },
  {
   "cell_type": "markdown",
   "id": "68de545f-610b-4df3-887d-47610d35f547",
   "metadata": {},
   "source": [
    "# Q36. An educational researcher is interested in whether a new teaching method improves student test scores. They randomly assign 100 students to either the control group (traditional teaching method) or the experimental group (new teaching method) and administer a test at the end of the semester. Conduct a two-sample t-test using Python to determine if there are any significant differences in test scores between the two groups. If the results are significant, follow up with a post-hoc test to determine which group(s) differ significantly from each other."
   ]
  },
  {
   "cell_type": "code",
   "execution_count": 28,
   "id": "cad9d53c-2d40-46e1-bcf7-eb7563fa121a",
   "metadata": {},
   "outputs": [
    {
     "name": "stdout",
     "output_type": "stream",
     "text": [
      "T-statistic: -14.393098704677211\n",
      "p-value: 5.755655840190321e-17\n",
      "There is a significant difference in test scores between the control and experimental groups.\n",
      "   Multiple Comparison of Means - Tukey HSD, FWER=0.05   \n",
      "=========================================================\n",
      " group1    group2    meandiff p-adj lower   upper  reject\n",
      "---------------------------------------------------------\n",
      "Control Experimental     10.4   0.0 8.9372 11.8628   True\n",
      "---------------------------------------------------------\n"
     ]
    }
   ],
   "source": [
    "# Ans: 36\n",
    "\n",
    "import numpy as np\n",
    "import pandas as pd\n",
    "from scipy.stats import ttest_ind\n",
    "from statsmodels.stats.multicomp import MultiComparison\n",
    "\n",
    "# Test scores data for the control and experimental groups\n",
    "control_scores = [70, 72, 68, 65, 74, 71, 69, 75, 68, 73,\n",
    "                  72, 70, 75, 71, 69, 70, 71, 73, 68, 72]\n",
    "\n",
    "experimental_scores = [80, 82, 79, 85, 81, 83, 78, 82, 79, 84,\n",
    "                       82, 80, 83, 79, 80, 81, 84, 82, 79, 81]\n",
    "\n",
    "# Perform two-sample t-test\n",
    "t_stat, p_value = ttest_ind(control_scores, experimental_scores)\n",
    "\n",
    "print(\"T-statistic:\", t_stat)\n",
    "print(\"p-value:\", p_value)\n",
    "\n",
    "# Check if the result is significant (p-value < 0.05)\n",
    "if p_value < 0.05:\n",
    "    print(\"There is a significant difference in test scores between the control and experimental groups.\")\n",
    "else:\n",
    "    print(\"There is no significant difference in test scores between the control and experimental groups.\")\n",
    "\n",
    "# If the results are significant, perform a post-hoc test (Tukey's HSD)\n",
    "if p_value < 0.05:\n",
    "    # Combine the data and create a group indicator variable (0 for control, 1 for experimental)\n",
    "    all_scores = np.array(control_scores + experimental_scores)\n",
    "    group_indicator = np.array([\"Control\"] * len(control_scores) + [\"Experimental\"] * len(experimental_scores))\n",
    "    \n",
    "    # Create a DataFrame to use for the post-hoc test\n",
    "    data = pd.DataFrame({\"Scores\": all_scores, \"Group\": group_indicator})\n",
    "    \n",
    "    # Perform the post-hoc test (Tukey's HSD)\n",
    "    posthoc = MultiComparison(data[\"Scores\"], data[\"Group\"])\n",
    "    result = posthoc.tukeyhsd()\n",
    "    print(result)"
   ]
  },
  {
   "cell_type": "code",
   "execution_count": null,
   "id": "6cfff6aa-9942-4ffd-aa86-df138a0a2a8d",
   "metadata": {},
   "outputs": [],
   "source": []
  },
  {
   "cell_type": "markdown",
   "id": "48dfd11b-d5d2-445f-bcf7-aab0ae72abfe",
   "metadata": {},
   "source": [
    "# Q37. A researcher wants to know if there are any significant differences in the average daily sales of three retail stores: Store A, Store B, and Store C. They randomly select 30 days and record the sales for each store on those days. Conduct a repeated measures ANOVA using Python to determine if there are any significant differences in sales between the three stores. If the results are significant, follow up with a post- hoc test to determine which store(s) differ significantly from each other."
   ]
  },
  {
   "cell_type": "markdown",
   "id": "2c2c7b98-6d21-4508-8ba9-20730ae25279",
   "metadata": {},
   "source": [
    "# Ans: 37\n",
    "\n",
    "For the given scenario, we should use a one-way ANOVA for independent samples to compare the average daily sales of the three retail stores. If the results are significant, we can follow up with a post-hoc test (e.g., Tukey's HSD) to identify which store(s) have significantly different sales."
   ]
  },
  {
   "cell_type": "code",
   "execution_count": 29,
   "id": "d6118979-1aef-4055-b2a5-e6582de3f521",
   "metadata": {},
   "outputs": [
    {
     "name": "stdout",
     "output_type": "stream",
     "text": [
      "F-statistic: 67.72352941176479\n",
      "p-value: 1.839617085900212e-18\n",
      "There is a significant difference in average daily sales between the three stores.\n",
      "   Multiple Comparison of Means - Tukey HSD, FWER=0.05    \n",
      "==========================================================\n",
      " group1  group2  meandiff p-adj    lower    upper   reject\n",
      "----------------------------------------------------------\n",
      "Store A Store B  206.6667    0.0   151.672 261.6613   True\n",
      "Store A Store C     -45.0 0.1307  -99.9946   9.9946  False\n",
      "Store B Store C -251.6667    0.0 -306.6613 -196.672   True\n",
      "----------------------------------------------------------\n"
     ]
    }
   ],
   "source": [
    "import numpy as np\n",
    "import pandas as pd\n",
    "from scipy.stats import f_oneway\n",
    "from statsmodels.stats.multicomp import MultiComparison\n",
    "\n",
    "# Daily sales data for Store A, Store B, and Store C\n",
    "store_A_sales = [1000, 1200, 900, 1100, 950, 1050, 1150, 1000, 1050, 1100,\n",
    "                 900, 1150, 1200, 950, 1000, 1100, 1050, 950, 1150, 1000,\n",
    "                 1200, 900, 1100, 950, 1050, 1150, 1000, 1050, 1100, 900]\n",
    "\n",
    "store_B_sales = [1300, 1250, 1350, 1200, 1100, 1400, 1150, 1300, 1250, 1350,\n",
    "                 1200, 1100, 1400, 1150, 1300, 1250, 1350, 1200, 1100, 1400,\n",
    "                 1150, 1300, 1250, 1350, 1200, 1100, 1400, 1150, 1300, 1250]\n",
    "\n",
    "store_C_sales = [950, 1000, 900, 1050, 1100, 950, 1000, 900, 1050, 1100,\n",
    "                 950, 1000, 900, 1050, 1100, 950, 1000, 900, 1050, 1100,\n",
    "                 950, 1000, 900, 1050, 1100, 950, 1000, 900, 1050, 1100]\n",
    "\n",
    "# Combine the data into a list of arrays\n",
    "all_sales = [np.array(store_A_sales), np.array(store_B_sales), np.array(store_C_sales)]\n",
    "\n",
    "# Perform one-way ANOVA\n",
    "f_statistic, p_value = f_oneway(*all_sales)\n",
    "\n",
    "print(\"F-statistic:\", f_statistic)\n",
    "print(\"p-value:\", p_value)\n",
    "\n",
    "# Check if the result is significant (p-value < 0.05)\n",
    "if p_value < 0.05:\n",
    "    print(\"There is a significant difference in average daily sales between the three stores.\")\n",
    "else:\n",
    "    print(\"There is no significant difference in average daily sales between the three stores.\")\n",
    "\n",
    "# If the results are significant, perform a post-hoc test (e.g., Tukey's HSD)\n",
    "if p_value < 0.05:\n",
    "    # Combine the data and create a group indicator variable (0 for Store A, 1 for Store B, 2 for Store C)\n",
    "    all_data = np.concatenate(all_sales)\n",
    "    group_indicator = np.array([\"Store A\"] * len(store_A_sales) + [\"Store B\"] * len(store_B_sales) +\n",
    "                               [\"Store C\"] * len(store_C_sales))\n",
    "    \n",
    "    # Create a DataFrame to use for the post-hoc test\n",
    "    data = pd.DataFrame({\"Sales\": all_data, \"Store\": group_indicator})\n",
    "    \n",
    "    # Perform the post-hoc test (e.g., Tukey's HSD)\n",
    "    posthoc = MultiComparison(data[\"Sales\"], data[\"Store\"])\n",
    "    result = posthoc.tukeyhsd()\n",
    "    print(result)"
   ]
  },
  {
   "cell_type": "code",
   "execution_count": null,
   "id": "b8016f51-1553-47c2-8074-7b67bc3226ce",
   "metadata": {},
   "outputs": [],
   "source": []
  },
  {
   "cell_type": "markdown",
   "id": "8d48bd93-28d8-4cd3-aa0c-878f78814e73",
   "metadata": {},
   "source": [
    "# Q38. Write a Python function that takes in two arrays of data and calculates the F-value for a variance ratio test. The function should return the F-value and the corresponding p-value for the test."
   ]
  },
  {
   "cell_type": "code",
   "execution_count": 30,
   "id": "0412ccc2-2dbd-4b32-9cae-0cfe6d4fc204",
   "metadata": {},
   "outputs": [
    {
     "name": "stdout",
     "output_type": "stream",
     "text": [
      "F-value: 2.4032697547683926\n",
      "p-value: 0.15967812288374558\n"
     ]
    }
   ],
   "source": [
    "# Ans: 38 \n",
    "\n",
    "import numpy as np\n",
    "from scipy.stats import f_oneway\n",
    "\n",
    "def variance_ratio_test(arr1, arr2):\n",
    "    \"\"\"\n",
    "    Perform a variance ratio test (F-test) on two arrays of data.\n",
    "\n",
    "    Parameters:\n",
    "        arr1 (array-like): First array of data.\n",
    "        arr2 (array-like): Second array of data.\n",
    "\n",
    "    Returns:\n",
    "        F_value (float): The F-value from the variance ratio test.\n",
    "        p_value (float): The corresponding p-value for the test.\n",
    "    \"\"\"\n",
    "    # Convert the input arrays to numpy arrays\n",
    "    arr1 = np.array(arr1)\n",
    "    arr2 = np.array(arr2)\n",
    "\n",
    "    # Perform the variance ratio test (F-test)\n",
    "    F_value, p_value = f_oneway(arr1, arr2)\n",
    "\n",
    "    return F_value, p_value\n",
    "\n",
    "# Example usage:\n",
    "data1 = [10, 15, 12, 18, 20]\n",
    "data2 = [5, 8, 11, 14, 16]\n",
    "\n",
    "F_value, p_value = variance_ratio_test(data1, data2)\n",
    "print(\"F-value:\", F_value)\n",
    "print(\"p-value:\", p_value)"
   ]
  },
  {
   "cell_type": "code",
   "execution_count": null,
   "id": "ce2a4d4a-6208-421c-9647-bc83731ae46a",
   "metadata": {},
   "outputs": [],
   "source": []
  },
  {
   "cell_type": "markdown",
   "id": "ca3760be-fa82-42a8-89da-cca41ee0ab31",
   "metadata": {},
   "source": [
    "# Q39. Given a significance level of 0.05 and the degrees of freedom for the numerator and denominator of an F-distribution, write a Python function that returns the critical F-value for a two-tailed test."
   ]
  },
  {
   "cell_type": "code",
   "execution_count": 31,
   "id": "f601cfd9-c055-42ae-a416-67318271085c",
   "metadata": {},
   "outputs": [
    {
     "name": "stdout",
     "output_type": "stream",
     "text": [
      "Critical F-value: 3.8586986662732143\n"
     ]
    }
   ],
   "source": [
    "# Ans: 39\n",
    "\n",
    "from scipy.stats import f\n",
    "\n",
    "def critical_f_value(alpha, df_num, df_den):\n",
    "    \"\"\"\n",
    "    Calculate the critical F-value for a two-tailed test.\n",
    "\n",
    "    Parameters:\n",
    "        alpha (float): The significance level (e.g., 0.05 for 5% significance).\n",
    "        df_num (int): Degrees of freedom for the numerator.\n",
    "        df_den (int): Degrees of freedom for the denominator.\n",
    "\n",
    "    Returns:\n",
    "        crit_f_value (float): The critical F-value for the two-tailed test.\n",
    "    \"\"\"\n",
    "    # Calculate the critical F-value for a two-tailed test\n",
    "    crit_f_value = f.ppf(1 - alpha / 2, df_num, df_den)\n",
    "\n",
    "    return crit_f_value\n",
    "\n",
    "# Example usage:\n",
    "significance_level = 0.05\n",
    "degrees_of_freedom_num = 3\n",
    "degrees_of_freedom_den = 20\n",
    "\n",
    "crit_f_value = critical_f_value(significance_level, degrees_of_freedom_num, degrees_of_freedom_den)\n",
    "print(\"Critical F-value:\", crit_f_value)"
   ]
  },
  {
   "cell_type": "code",
   "execution_count": null,
   "id": "9e8b82c1-0d6d-4f6a-8454-5b2e751bad08",
   "metadata": {},
   "outputs": [],
   "source": []
  },
  {
   "cell_type": "markdown",
   "id": "d13d8821-997e-41ab-8a1b-6b947eea5e58",
   "metadata": {},
   "source": [
    "# Q40. Write a Python program that generates random samples from two normal distributions with known variances and uses an F-test to determine if the variances are equal. The program should output the F- value, degrees of freedom, and p-value for the test."
   ]
  },
  {
   "cell_type": "code",
   "execution_count": 32,
   "id": "4473faa3-e7e8-4dbb-a396-7647d37fc03c",
   "metadata": {},
   "outputs": [
    {
     "name": "stdout",
     "output_type": "stream",
     "text": [
      "F-value: 1.5143904526080045\n",
      "Degrees of freedom (numerator): 49\n",
      "Degrees of freedom (denominator): 49\n",
      "p-value: 0.22141591563741264\n"
     ]
    }
   ],
   "source": [
    "# Ans: 40\n",
    "\n",
    "def variance_ratio_test(arr1, arr2):\n",
    "    \"\"\"\n",
    "    Perform a variance ratio test (F-test) on two arrays of data.\n",
    "\n",
    "    Parameters:\n",
    "        arr1 (array-like): First array of data.\n",
    "        arr2 (array-like): Second array of data.\n",
    "\n",
    "    Returns:\n",
    "        F_value (float): The F-value from the variance ratio test.\n",
    "        df_num (int): Degrees of freedom for the numerator.\n",
    "        df_den (int): Degrees of freedom for the denominator.\n",
    "        p_value (float): The corresponding p-value for the test.\n",
    "    \"\"\"\n",
    "    # Perform the variance ratio test (F-test)\n",
    "    F_value, p_value = f_oneway(arr1, arr2)\n",
    "\n",
    "    # Calculate degrees of freedom for the numerator and denominator\n",
    "    df_num = len(arr1) - 1\n",
    "    df_den = len(arr2) - 1\n",
    "\n",
    "    return F_value, df_num, df_den, p_value\n",
    "\n",
    "def main():\n",
    "    # Set seed for reproducibility\n",
    "    np.random.seed(42)\n",
    "\n",
    "    # Known variances of the normal distributions\n",
    "    variance1 = 4.0\n",
    "    variance2 = 6.0\n",
    "\n",
    "    # Generate random samples from two normal distributions with known variances\n",
    "    sample_size = 50\n",
    "    sample1 = np.random.normal(loc=0, scale=np.sqrt(variance1), size=sample_size)\n",
    "    sample2 = np.random.normal(loc=0, scale=np.sqrt(variance2), size=sample_size)\n",
    "\n",
    "    # Perform the F-test\n",
    "    F_value, df_num, df_den, p_value = variance_ratio_test(sample1, sample2)\n",
    "\n",
    "    # Output the results\n",
    "    print(\"F-value:\", F_value)\n",
    "    print(\"Degrees of freedom (numerator):\", df_num)\n",
    "    print(\"Degrees of freedom (denominator):\", df_den)\n",
    "    print(\"p-value:\", p_value)\n",
    "\n",
    "if __name__ == \"__main__\":\n",
    "    main()"
   ]
  },
  {
   "cell_type": "code",
   "execution_count": null,
   "id": "ac923930-faf6-4888-9d1b-858535387fd6",
   "metadata": {},
   "outputs": [],
   "source": []
  },
  {
   "cell_type": "markdown",
   "id": "00719439-2414-4928-98af-341c508874e9",
   "metadata": {},
   "source": [
    "# Q41.The variances of two populations are known to be 10 and 15. A sample of 12 observations is taken from each population. Conduct an F-test at the 5% significance level to determine if the variances are significantly different."
   ]
  },
  {
   "cell_type": "code",
   "execution_count": 33,
   "id": "29802de7-f293-4bac-8ff0-6bc97a8c5459",
   "metadata": {},
   "outputs": [
    {
     "name": "stdout",
     "output_type": "stream",
     "text": [
      "F-value: 6.08206374265242\n",
      "Degrees of freedom (numerator): 11\n",
      "Degrees of freedom (denominator): 11\n",
      "p-value: 0.021924080753184683\n"
     ]
    }
   ],
   "source": [
    "# Ans: 41\n",
    "\n",
    "def variance_ratio_test(arr1, arr2):\n",
    "    \"\"\"\n",
    "    Perform a variance ratio test (F-test) on two arrays of data.\n",
    "\n",
    "    Parameters:\n",
    "        arr1 (array-like): First array of data.\n",
    "        arr2 (array-like): Second array of data.\n",
    "\n",
    "    Returns:\n",
    "        F_value (float): The F-value from the variance ratio test.\n",
    "        df_num (int): Degrees of freedom for the numerator.\n",
    "        df_den (int): Degrees of freedom for the denominator.\n",
    "        p_value (float): The corresponding p-value for the test.\n",
    "    \"\"\"\n",
    "    # Perform the variance ratio test (F-test)\n",
    "    F_value, p_value = f_oneway(arr1, arr2)\n",
    "\n",
    "    # Calculate degrees of freedom for the numerator and denominator\n",
    "    df_num = len(arr1) - 1\n",
    "    df_den = len(arr2) - 1\n",
    "\n",
    "    return F_value, df_num, df_den, p_value\n",
    "\n",
    "def main():\n",
    "    # Set seed for reproducibility\n",
    "    np.random.seed(42)\n",
    "\n",
    "    # Known variances of the populations\n",
    "    variance1 = 10.0\n",
    "    variance2 = 15.0\n",
    "\n",
    "    # Sample size\n",
    "    sample_size = 12\n",
    "\n",
    "    # Generate random samples from two normal distributions with known variances\n",
    "    sample1 = np.random.normal(loc=0, scale=np.sqrt(variance1), size=sample_size)\n",
    "    sample2 = np.random.normal(loc=0, scale=np.sqrt(variance2), size=sample_size)\n",
    "\n",
    "    # Perform the F-test\n",
    "    F_value, df_num, df_den, p_value = variance_ratio_test(sample1, sample2)\n",
    "\n",
    "    # Output the results\n",
    "    print(\"F-value:\", F_value)\n",
    "    print(\"Degrees of freedom (numerator):\", df_num)\n",
    "    print(\"Degrees of freedom (denominator):\", df_den)\n",
    "    print(\"p-value:\", p_value)\n",
    "\n",
    "if __name__ == \"__main__\":\n",
    "    main()"
   ]
  },
  {
   "cell_type": "code",
   "execution_count": null,
   "id": "3d686a1a-2a6e-4673-a708-b8016ac2704e",
   "metadata": {},
   "outputs": [],
   "source": []
  },
  {
   "cell_type": "markdown",
   "id": "6b1e94c8-42e4-41bd-8d7a-d8b9daf492dd",
   "metadata": {},
   "source": [
    "# Q42. A manufacturer claims that the variance of the diameter of a certain product is 0.005. A sample of 25 products is taken, and the sample variance is found to be 0.006. Conduct an F-test at the 1% significance level to determine if the claim is justified."
   ]
  },
  {
   "cell_type": "code",
   "execution_count": 34,
   "id": "c94c2f52-8252-46fd-9b2a-3c2a59fd78d9",
   "metadata": {},
   "outputs": [
    {
     "name": "stdout",
     "output_type": "stream",
     "text": [
      "Sample Variance: 0.004574968728404552\n",
      "F-value: nan\n",
      "Degrees of freedom (numerator): 24\n",
      "Degrees of freedom (denominator): -1\n",
      "p-value: nan\n"
     ]
    }
   ],
   "source": [
    "# Ans: 42 \n",
    "import warnings\n",
    "warnings.filterwarnings('ignore')\n",
    "\n",
    "def variance_ratio_test(arr1, arr2):\n",
    "    \"\"\"\n",
    "    Perform a variance ratio test (F-test) on two arrays of data.\n",
    "\n",
    "    Parameters:\n",
    "        arr1 (array-like): First array of data.\n",
    "        arr2 (array-like): Second array of data.\n",
    "\n",
    "    Returns:\n",
    "        F_value (float): The F-value from the variance ratio test.\n",
    "        df_num (int): Degrees of freedom for the numerator.\n",
    "        df_den (int): Degrees of freedom for the denominator.\n",
    "        p_value (float): The corresponding p-value for the test.\n",
    "    \"\"\"\n",
    "    # Perform the variance ratio test (F-test)\n",
    "    F_value, p_value = f_oneway(arr1, arr2)\n",
    "\n",
    "    # Calculate degrees of freedom for the numerator and denominator\n",
    "    df_num = len(arr1) - 1\n",
    "    df_den = len(arr2) - 1\n",
    "\n",
    "    return F_value, df_num, df_den, p_value\n",
    "\n",
    "def main():\n",
    "    # Set seed for reproducibility\n",
    "    np.random.seed(42)\n",
    "\n",
    "    # Claimed variance by the manufacturer\n",
    "    claimed_variance = 0.005\n",
    "\n",
    "    # Sample size\n",
    "    sample_size = 25\n",
    "\n",
    "    # Generate random sample from a normal distribution with the claimed variance\n",
    "    sample = np.random.normal(loc=0, scale=np.sqrt(claimed_variance), size=sample_size)\n",
    "\n",
    "    # Sample variance\n",
    "    sample_variance = np.var(sample, ddof=1)  # Use ddof=1 for unbiased sample variance\n",
    "\n",
    "    # Perform the F-test\n",
    "    F_value, df_num, df_den, p_value = variance_ratio_test(sample, [])\n",
    "\n",
    "    # Output the results\n",
    "    print(\"Sample Variance:\", sample_variance)\n",
    "    print(\"F-value:\", F_value)\n",
    "    print(\"Degrees of freedom (numerator):\", df_num)\n",
    "    print(\"Degrees of freedom (denominator):\", df_den)\n",
    "    print(\"p-value:\", p_value)\n",
    "\n",
    "if __name__ == \"__main__\":\n",
    "    main()"
   ]
  },
  {
   "cell_type": "code",
   "execution_count": null,
   "id": "4d2edd42-7e72-4477-a3a6-0f4d0574f8e9",
   "metadata": {},
   "outputs": [],
   "source": []
  },
  {
   "cell_type": "markdown",
   "id": "8577a188-8ad5-4841-86fd-4463e814f80f",
   "metadata": {},
   "source": [
    "# Q43. Write a Python function that takes in the degrees of freedom for the numerator and denominator of an F-distribution and calculates the mean and variance of the distribution. The function should return the mean and variance as a tuple."
   ]
  },
  {
   "cell_type": "code",
   "execution_count": 35,
   "id": "3945e69c-f0a3-4b66-a542-130ac53235ae",
   "metadata": {},
   "outputs": [
    {
     "name": "stdout",
     "output_type": "stream",
     "text": [
      "Mean of F-distribution: 1.1111111111111112\n",
      "Variance of F-distribution: 1.0802469135802468\n"
     ]
    }
   ],
   "source": [
    "# Ans: 43 \n",
    "\n",
    "def f_distribution_mean_variance(df_num, df_den):\n",
    "    \"\"\"\n",
    "    Calculate the mean and variance of the F-distribution.\n",
    "\n",
    "    Parameters:\n",
    "        df_num (int): Degrees of freedom for the numerator.\n",
    "        df_den (int): Degrees of freedom for the denominator.\n",
    "\n",
    "    Returns:\n",
    "        mean (float): The mean of the F-distribution.\n",
    "        variance (float): The variance of the F-distribution.\n",
    "    \"\"\"\n",
    "    # Calculate the mean and variance of the F-distribution\n",
    "    mean = df_den / (df_den - 2)\n",
    "    variance = (2 * df_den**2 * (df_num + df_den - 2)) / (df_num * (df_den - 2)**2 * (df_den - 4))\n",
    "\n",
    "    return mean, variance\n",
    "\n",
    "# Example usage:\n",
    "degrees_of_freedom_num = 3\n",
    "degrees_of_freedom_den = 20\n",
    "mean, variance = f_distribution_mean_variance(degrees_of_freedom_num, degrees_of_freedom_den)\n",
    "print(\"Mean of F-distribution:\", mean)\n",
    "print(\"Variance of F-distribution:\", variance)"
   ]
  },
  {
   "cell_type": "code",
   "execution_count": null,
   "id": "3d807d48-1c11-43f3-8cc7-415217dba384",
   "metadata": {},
   "outputs": [],
   "source": []
  },
  {
   "cell_type": "markdown",
   "id": "437699ed-2bb3-4b67-8273-8108a0afc87f",
   "metadata": {},
   "source": [
    "# Q44. A random sample of 10 measurements is taken from a normal population with unknown variance. The sample variance is found to be 25. Another random sample of 15 measurements is taken from another normal population with unknown variance, and the sample variance is found to be 20. Conduct an F-test at the 10% significance level to determine if the variances are significantly different."
   ]
  },
  {
   "cell_type": "code",
   "execution_count": 36,
   "id": "0b999700-70fc-4c6f-9699-24fb21d985d3",
   "metadata": {},
   "outputs": [
    {
     "name": "stdout",
     "output_type": "stream",
     "text": [
      "Sample Variance 1: 25\n",
      "Sample Variance 2: 20\n",
      "F-value: 9.385483069468613\n",
      "Degrees of freedom (numerator): 9\n",
      "Degrees of freedom (denominator): 14\n",
      "p-value: 0.005501846884736198\n"
     ]
    }
   ],
   "source": [
    "# Ans: 44 \n",
    "\n",
    "def variance_ratio_test(arr1, arr2):\n",
    "    \"\"\"\n",
    "    Perform a variance ratio test (F-test) on two arrays of data.\n",
    "\n",
    "    Parameters:\n",
    "        arr1 (array-like): First array of data.\n",
    "        arr2 (array-like): Second array of data.\n",
    "\n",
    "    Returns:\n",
    "        F_value (float): The F-value from the variance ratio test.\n",
    "        df_num (int): Degrees of freedom for the numerator.\n",
    "        df_den (int): Degrees of freedom for the denominator.\n",
    "        p_value (float): The corresponding p-value for the test.\n",
    "    \"\"\"\n",
    "    # Perform the variance ratio test (F-test)\n",
    "    F_value, p_value = f_oneway(arr1, arr2)\n",
    "\n",
    "    # Calculate degrees of freedom for the numerator and denominator\n",
    "    df_num = len(arr1) - 1\n",
    "    df_den = len(arr2) - 1\n",
    "\n",
    "    return F_value, df_num, df_den, p_value\n",
    "\n",
    "def main():\n",
    "    # Set seed for reproducibility\n",
    "    np.random.seed(42)\n",
    "\n",
    "    # Sample variances of two populations\n",
    "    sample_variance1 = 25\n",
    "    sample_variance2 = 20\n",
    "\n",
    "    # Sample sizes\n",
    "    sample_size1 = 10\n",
    "    sample_size2 = 15\n",
    "\n",
    "    # Generate random samples from two normal distributions with unknown variances\n",
    "    sample1 = np.random.normal(loc=0, scale=np.sqrt(sample_variance1), size=sample_size1)\n",
    "    sample2 = np.random.normal(loc=0, scale=np.sqrt(sample_variance2), size=sample_size2)\n",
    "\n",
    "    # Perform the F-test\n",
    "    F_value, df_num, df_den, p_value = variance_ratio_test(sample1, sample2)\n",
    "\n",
    "    # Output the results\n",
    "    print(\"Sample Variance 1:\", sample_variance1)\n",
    "    print(\"Sample Variance 2:\", sample_variance2)\n",
    "    print(\"F-value:\", F_value)\n",
    "    print(\"Degrees of freedom (numerator):\", df_num)\n",
    "    print(\"Degrees of freedom (denominator):\", df_den)\n",
    "    print(\"p-value:\", p_value)\n",
    "\n",
    "if __name__ == \"__main__\":\n",
    "    main()"
   ]
  },
  {
   "cell_type": "code",
   "execution_count": null,
   "id": "ca2b6e3b-5601-4266-b8ed-f26b160b992b",
   "metadata": {},
   "outputs": [],
   "source": []
  },
  {
   "cell_type": "markdown",
   "id": "7b8aee94-1583-4fca-a6dd-4d7a0cd06550",
   "metadata": {},
   "source": [
    "# Q45. The following data represent the waiting times in minutes at two different restaurants on a Saturday night: Restaurant A: 24, 25, 28, 23, 22, 20, 27; Restaurant B: 31, 33, 35, 30, 32, 36. Conduct an F-test at the 5% significance level to determine if the variances are significantly different."
   ]
  },
  {
   "cell_type": "code",
   "execution_count": 37,
   "id": "65eb899c-bc0b-46cf-9260-292a5e9a4f5b",
   "metadata": {},
   "outputs": [
    {
     "name": "stdout",
     "output_type": "stream",
     "text": [
      "Sample Variance A: 7.80952380952381\n",
      "Sample Variance B: 5.366666666666667\n",
      "F-value: 36.42289051820553\n",
      "Degrees of freedom (numerator): 6\n",
      "Degrees of freedom (denominator): 5\n",
      "p-value: 8.48759371471029e-05\n"
     ]
    }
   ],
   "source": [
    "# Ans: 45 \n",
    "\n",
    "def variance_ratio_test(arr1, arr2):\n",
    "    \"\"\"\n",
    "    Perform a variance ratio test (F-test) on two arrays of data.\n",
    "\n",
    "    Parameters:\n",
    "        arr1 (array-like): First array of data.\n",
    "        arr2 (array-like): Second array of data.\n",
    "\n",
    "    Returns:\n",
    "        F_value (float): The F-value from the variance ratio test.\n",
    "        df_num (int): Degrees of freedom for the numerator.\n",
    "        df_den (int): Degrees of freedom for the denominator.\n",
    "        p_value (float): The corresponding p-value for the test.\n",
    "    \"\"\"\n",
    "    # Perform the variance ratio test (F-test)\n",
    "    F_value, p_value = f_oneway(arr1, arr2)\n",
    "\n",
    "    # Calculate degrees of freedom for the numerator and denominator\n",
    "    df_num = len(arr1) - 1\n",
    "    df_den = len(arr2) - 1\n",
    "\n",
    "    return F_value, df_num, df_den, p_value\n",
    "\n",
    "def main():\n",
    "    # Set seed for reproducibility\n",
    "    np.random.seed(42)\n",
    "\n",
    "    # Waiting times data for two restaurants\n",
    "    waiting_times_restaurant_a = [24, 25, 28, 23, 22, 20, 27]\n",
    "    waiting_times_restaurant_b = [31, 33, 35, 30, 32, 36]\n",
    "\n",
    "    # Sample variances\n",
    "    sample_variance_a = np.var(waiting_times_restaurant_a, ddof=1)  # Use ddof=1 for unbiased sample variance\n",
    "    sample_variance_b = np.var(waiting_times_restaurant_b, ddof=1)\n",
    "\n",
    "    # Perform the F-test\n",
    "    F_value, df_num, df_den, p_value = variance_ratio_test(waiting_times_restaurant_a, waiting_times_restaurant_b)\n",
    "\n",
    "    # Output the results\n",
    "    print(\"Sample Variance A:\", sample_variance_a)\n",
    "    print(\"Sample Variance B:\", sample_variance_b)\n",
    "    print(\"F-value:\", F_value)\n",
    "    print(\"Degrees of freedom (numerator):\", df_num)\n",
    "    print(\"Degrees of freedom (denominator):\", df_den)\n",
    "    print(\"p-value:\", p_value)\n",
    "\n",
    "if __name__ == \"__main__\":\n",
    "    main()"
   ]
  },
  {
   "cell_type": "code",
   "execution_count": null,
   "id": "8c58be80-75d4-4e15-a292-d2e9886e4740",
   "metadata": {},
   "outputs": [],
   "source": []
  },
  {
   "cell_type": "markdown",
   "id": "0187538f-168f-440b-95ac-7a3d81f5c336",
   "metadata": {},
   "source": [
    "# Q46. The following data represent the test scores of two groups of students: Group A: 80, 85, 90, 92, 87, 83; Group B: 75, 78, 82, 79, 81, 84. Conduct an F-test at the 1% significance level to determine if the variances are significantly different."
   ]
  },
  {
   "cell_type": "code",
   "execution_count": 38,
   "id": "073800b2-569d-452c-a9a6-865ef78fa1b7",
   "metadata": {},
   "outputs": [
    {
     "name": "stdout",
     "output_type": "stream",
     "text": [
      "Sample Variance Group A: 19.76666666666667\n",
      "Sample Variance Group B: 10.166666666666666\n",
      "F-value: 8.040089086859687\n",
      "Degrees of freedom (numerator): 5\n",
      "Degrees of freedom (denominator): 5\n",
      "p-value: 0.017684171924487787\n"
     ]
    }
   ],
   "source": [
    "# Ans: 46 \n",
    "\n",
    "def variance_ratio_test(arr1, arr2):\n",
    "    \"\"\"\n",
    "    Perform a variance ratio test (F-test) on two arrays of data.\n",
    "\n",
    "    Parameters:\n",
    "        arr1 (array-like): First array of data.\n",
    "        arr2 (array-like): Second array of data.\n",
    "\n",
    "    Returns:\n",
    "        F_value (float): The F-value from the variance ratio test.\n",
    "        df_num (int): Degrees of freedom for the numerator.\n",
    "        df_den (int): Degrees of freedom for the denominator.\n",
    "        p_value (float): The corresponding p-value for the test.\n",
    "    \"\"\"\n",
    "    # Perform the variance ratio test (F-test)\n",
    "    F_value, p_value = f_oneway(arr1, arr2)\n",
    "\n",
    "    # Calculate degrees of freedom for the numerator and denominator\n",
    "    df_num = len(arr1) - 1\n",
    "    df_den = len(arr2) - 1\n",
    "\n",
    "    return F_value, df_num, df_den, p_value\n",
    "\n",
    "def main():\n",
    "    # Set seed for reproducibility\n",
    "    np.random.seed(42)\n",
    "\n",
    "    # Test scores data for two groups of students\n",
    "    group_a_scores = [80, 85, 90, 92, 87, 83]\n",
    "    group_b_scores = [75, 78, 82, 79, 81, 84]\n",
    "\n",
    "    # Sample variances\n",
    "    sample_variance_a = np.var(group_a_scores, ddof=1)  # Use ddof=1 for unbiased sample variance\n",
    "    sample_variance_b = np.var(group_b_scores, ddof=1)\n",
    "\n",
    "    # Perform the F-test\n",
    "    F_value, df_num, df_den, p_value = variance_ratio_test(group_a_scores, group_b_scores)\n",
    "\n",
    "    # Output the results\n",
    "    print(\"Sample Variance Group A:\", sample_variance_a)\n",
    "    print(\"Sample Variance Group B:\", sample_variance_b)\n",
    "    print(\"F-value:\", F_value)\n",
    "    print(\"Degrees of freedom (numerator):\", df_num)\n",
    "    print(\"Degrees of freedom (denominator):\", df_den)\n",
    "    print(\"p-value:\", p_value)\n",
    "\n",
    "if __name__ == \"__main__\":\n",
    "    main()"
   ]
  },
  {
   "cell_type": "code",
   "execution_count": null,
   "id": "f069414c-648d-424b-96cc-106ff7496611",
   "metadata": {},
   "outputs": [],
   "source": []
  }
 ],
 "metadata": {
  "kernelspec": {
   "display_name": "Python 3 (ipykernel)",
   "language": "python",
   "name": "python3"
  },
  "language_info": {
   "codemirror_mode": {
    "name": "ipython",
    "version": 3
   },
   "file_extension": ".py",
   "mimetype": "text/x-python",
   "name": "python",
   "nbconvert_exporter": "python",
   "pygments_lexer": "ipython3",
   "version": "3.10.8"
  }
 },
 "nbformat": 4,
 "nbformat_minor": 5
}
